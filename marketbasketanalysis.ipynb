{
 "cells": [
  {
   "cell_type": "code",
   "execution_count": 1,
   "id": "f845e1a9",
   "metadata": {
    "execution": {
     "iopub.execute_input": "2023-01-08T04:05:20.805230Z",
     "iopub.status.busy": "2023-01-08T04:05:20.804496Z",
     "iopub.status.idle": "2023-01-08T04:05:21.807801Z",
     "shell.execute_reply": "2023-01-08T04:05:21.806562Z"
    },
    "papermill": {
     "duration": 1.037295,
     "end_time": "2023-01-08T04:05:21.810690",
     "exception": false,
     "start_time": "2023-01-08T04:05:20.773395",
     "status": "completed"
    },
    "tags": []
   },
   "outputs": [],
   "source": [
    "import numpy as np\n",
    "import pandas as pd\n",
    "from mlxtend.frequent_patterns import apriori, association_rules\n",
    "import seaborn as sns\n",
    "import matplotlib.pyplot as plt"
   ]
  },
  {
   "cell_type": "code",
   "execution_count": 2,
   "id": "7a66b4b1",
   "metadata": {
    "execution": {
     "iopub.execute_input": "2023-01-08T04:05:21.865733Z",
     "iopub.status.busy": "2023-01-08T04:05:21.864514Z",
     "iopub.status.idle": "2023-01-08T04:05:21.950057Z",
     "shell.execute_reply": "2023-01-08T04:05:21.948847Z"
    },
    "papermill": {
     "duration": 0.114941,
     "end_time": "2023-01-08T04:05:21.952620",
     "exception": false,
     "start_time": "2023-01-08T04:05:21.837679",
     "status": "completed"
    },
    "tags": []
   },
   "outputs": [],
   "source": [
    "grocery_df= pd.read_csv(\"../input/groceries-dataset-for-market-basket-analysismba/Groceries data.csv\")"
   ]
  },
  {
   "cell_type": "code",
   "execution_count": 3,
   "id": "c0b72a79",
   "metadata": {
    "execution": {
     "iopub.execute_input": "2023-01-08T04:05:21.995862Z",
     "iopub.status.busy": "2023-01-08T04:05:21.995467Z",
     "iopub.status.idle": "2023-01-08T04:05:22.019865Z",
     "shell.execute_reply": "2023-01-08T04:05:22.018485Z"
    },
    "papermill": {
     "duration": 0.04922,
     "end_time": "2023-01-08T04:05:22.022739",
     "exception": false,
     "start_time": "2023-01-08T04:05:21.973519",
     "status": "completed"
    },
    "tags": []
   },
   "outputs": [
    {
     "data": {
      "text/html": [
       "<div>\n",
       "<style scoped>\n",
       "    .dataframe tbody tr th:only-of-type {\n",
       "        vertical-align: middle;\n",
       "    }\n",
       "\n",
       "    .dataframe tbody tr th {\n",
       "        vertical-align: top;\n",
       "    }\n",
       "\n",
       "    .dataframe thead th {\n",
       "        text-align: right;\n",
       "    }\n",
       "</style>\n",
       "<table border=\"1\" class=\"dataframe\">\n",
       "  <thead>\n",
       "    <tr style=\"text-align: right;\">\n",
       "      <th></th>\n",
       "      <th>Member_number</th>\n",
       "      <th>Date</th>\n",
       "      <th>itemDescription</th>\n",
       "      <th>year</th>\n",
       "      <th>month</th>\n",
       "      <th>day</th>\n",
       "      <th>day_of_week</th>\n",
       "    </tr>\n",
       "  </thead>\n",
       "  <tbody>\n",
       "    <tr>\n",
       "      <th>0</th>\n",
       "      <td>1808</td>\n",
       "      <td>2015-07-21</td>\n",
       "      <td>tropical fruit</td>\n",
       "      <td>2015</td>\n",
       "      <td>7</td>\n",
       "      <td>21</td>\n",
       "      <td>1</td>\n",
       "    </tr>\n",
       "    <tr>\n",
       "      <th>1</th>\n",
       "      <td>2552</td>\n",
       "      <td>2015-05-01</td>\n",
       "      <td>whole milk</td>\n",
       "      <td>2015</td>\n",
       "      <td>5</td>\n",
       "      <td>1</td>\n",
       "      <td>4</td>\n",
       "    </tr>\n",
       "    <tr>\n",
       "      <th>2</th>\n",
       "      <td>2300</td>\n",
       "      <td>2015-09-19</td>\n",
       "      <td>pip fruit</td>\n",
       "      <td>2015</td>\n",
       "      <td>9</td>\n",
       "      <td>19</td>\n",
       "      <td>5</td>\n",
       "    </tr>\n",
       "    <tr>\n",
       "      <th>3</th>\n",
       "      <td>1187</td>\n",
       "      <td>2015-12-12</td>\n",
       "      <td>other vegetables</td>\n",
       "      <td>2015</td>\n",
       "      <td>12</td>\n",
       "      <td>12</td>\n",
       "      <td>5</td>\n",
       "    </tr>\n",
       "    <tr>\n",
       "      <th>4</th>\n",
       "      <td>3037</td>\n",
       "      <td>2015-01-02</td>\n",
       "      <td>whole milk</td>\n",
       "      <td>2015</td>\n",
       "      <td>1</td>\n",
       "      <td>2</td>\n",
       "      <td>4</td>\n",
       "    </tr>\n",
       "  </tbody>\n",
       "</table>\n",
       "</div>"
      ],
      "text/plain": [
       "   Member_number        Date   itemDescription  year  month  day  day_of_week\n",
       "0           1808  2015-07-21    tropical fruit  2015      7   21            1\n",
       "1           2552  2015-05-01        whole milk  2015      5    1            4\n",
       "2           2300  2015-09-19         pip fruit  2015      9   19            5\n",
       "3           1187  2015-12-12  other vegetables  2015     12   12            5\n",
       "4           3037  2015-01-02        whole milk  2015      1    2            4"
      ]
     },
     "execution_count": 3,
     "metadata": {},
     "output_type": "execute_result"
    }
   ],
   "source": [
    "grocery_df.head()"
   ]
  },
  {
   "cell_type": "markdown",
   "id": "6d39196b",
   "metadata": {
    "papermill": {
     "duration": 0.021418,
     "end_time": "2023-01-08T04:05:22.068723",
     "exception": false,
     "start_time": "2023-01-08T04:05:22.047305",
     "status": "completed"
    },
    "tags": []
   },
   "source": [
    "## EDA"
   ]
  },
  {
   "cell_type": "code",
   "execution_count": 4,
   "id": "73a7233d",
   "metadata": {
    "execution": {
     "iopub.execute_input": "2023-01-08T04:05:22.115966Z",
     "iopub.status.busy": "2023-01-08T04:05:22.115559Z",
     "iopub.status.idle": "2023-01-08T04:05:22.122532Z",
     "shell.execute_reply": "2023-01-08T04:05:22.121401Z"
    },
    "papermill": {
     "duration": 0.031906,
     "end_time": "2023-01-08T04:05:22.124666",
     "exception": false,
     "start_time": "2023-01-08T04:05:22.092760",
     "status": "completed"
    },
    "tags": []
   },
   "outputs": [
    {
     "data": {
      "text/plain": [
       "38765"
      ]
     },
     "execution_count": 4,
     "metadata": {},
     "output_type": "execute_result"
    }
   ],
   "source": [
    "len(grocery_df)"
   ]
  },
  {
   "cell_type": "code",
   "execution_count": 5,
   "id": "f955c471",
   "metadata": {
    "execution": {
     "iopub.execute_input": "2023-01-08T04:05:22.168625Z",
     "iopub.status.busy": "2023-01-08T04:05:22.168187Z",
     "iopub.status.idle": "2023-01-08T04:05:22.181634Z",
     "shell.execute_reply": "2023-01-08T04:05:22.180641Z"
    },
    "papermill": {
     "duration": 0.037788,
     "end_time": "2023-01-08T04:05:22.183777",
     "exception": false,
     "start_time": "2023-01-08T04:05:22.145989",
     "status": "completed"
    },
    "tags": []
   },
   "outputs": [
    {
     "data": {
      "text/plain": [
       "Member_number      0\n",
       "Date               0\n",
       "itemDescription    0\n",
       "year               0\n",
       "month              0\n",
       "day                0\n",
       "day_of_week        0\n",
       "dtype: int64"
      ]
     },
     "execution_count": 5,
     "metadata": {},
     "output_type": "execute_result"
    }
   ],
   "source": [
    "grocery_df.isna().sum()"
   ]
  },
  {
   "cell_type": "code",
   "execution_count": 6,
   "id": "7f55b816",
   "metadata": {
    "execution": {
     "iopub.execute_input": "2023-01-08T04:05:22.228747Z",
     "iopub.status.busy": "2023-01-08T04:05:22.227869Z",
     "iopub.status.idle": "2023-01-08T04:05:22.255306Z",
     "shell.execute_reply": "2023-01-08T04:05:22.254366Z"
    },
    "papermill": {
     "duration": 0.052239,
     "end_time": "2023-01-08T04:05:22.257444",
     "exception": false,
     "start_time": "2023-01-08T04:05:22.205205",
     "status": "completed"
    },
    "tags": []
   },
   "outputs": [
    {
     "data": {
      "text/plain": [
       "759"
      ]
     },
     "execution_count": 6,
     "metadata": {},
     "output_type": "execute_result"
    }
   ],
   "source": [
    "len(grocery_df[grocery_df.duplicated(keep='first')==True])"
   ]
  },
  {
   "cell_type": "code",
   "execution_count": 7,
   "id": "48337def",
   "metadata": {
    "execution": {
     "iopub.execute_input": "2023-01-08T04:05:22.302826Z",
     "iopub.status.busy": "2023-01-08T04:05:22.302186Z",
     "iopub.status.idle": "2023-01-08T04:05:22.320801Z",
     "shell.execute_reply": "2023-01-08T04:05:22.319790Z"
    },
    "papermill": {
     "duration": 0.044188,
     "end_time": "2023-01-08T04:05:22.323212",
     "exception": false,
     "start_time": "2023-01-08T04:05:22.279024",
     "status": "completed"
    },
    "tags": []
   },
   "outputs": [],
   "source": [
    "grocery_df.drop_duplicates(inplace=True)# Dropping the duplicates"
   ]
  },
  {
   "cell_type": "code",
   "execution_count": 8,
   "id": "b8d4ea4d",
   "metadata": {
    "execution": {
     "iopub.execute_input": "2023-01-08T04:05:22.367960Z",
     "iopub.status.busy": "2023-01-08T04:05:22.367595Z",
     "iopub.status.idle": "2023-01-08T04:05:22.375287Z",
     "shell.execute_reply": "2023-01-08T04:05:22.374159Z"
    },
    "papermill": {
     "duration": 0.032664,
     "end_time": "2023-01-08T04:05:22.377413",
     "exception": false,
     "start_time": "2023-01-08T04:05:22.344749",
     "status": "completed"
    },
    "tags": []
   },
   "outputs": [
    {
     "data": {
      "text/plain": [
       "Member_number       int64\n",
       "Date               object\n",
       "itemDescription    object\n",
       "year                int64\n",
       "month               int64\n",
       "day                 int64\n",
       "day_of_week         int64\n",
       "dtype: object"
      ]
     },
     "execution_count": 8,
     "metadata": {},
     "output_type": "execute_result"
    }
   ],
   "source": [
    "grocery_df.dtypes"
   ]
  },
  {
   "cell_type": "markdown",
   "id": "6ef27703",
   "metadata": {
    "papermill": {
     "duration": 0.022699,
     "end_time": "2023-01-08T04:05:22.422157",
     "exception": false,
     "start_time": "2023-01-08T04:05:22.399458",
     "status": "completed"
    },
    "tags": []
   },
   "source": [
    "#### Checking the number of Items "
   ]
  },
  {
   "cell_type": "code",
   "execution_count": 9,
   "id": "159e0e18",
   "metadata": {
    "execution": {
     "iopub.execute_input": "2023-01-08T04:05:22.466689Z",
     "iopub.status.busy": "2023-01-08T04:05:22.466287Z",
     "iopub.status.idle": "2023-01-08T04:05:22.483719Z",
     "shell.execute_reply": "2023-01-08T04:05:22.482638Z"
    },
    "papermill": {
     "duration": 0.042632,
     "end_time": "2023-01-08T04:05:22.485983",
     "exception": false,
     "start_time": "2023-01-08T04:05:22.443351",
     "status": "completed"
    },
    "tags": []
   },
   "outputs": [
    {
     "data": {
      "text/html": [
       "<div>\n",
       "<style scoped>\n",
       "    .dataframe tbody tr th:only-of-type {\n",
       "        vertical-align: middle;\n",
       "    }\n",
       "\n",
       "    .dataframe tbody tr th {\n",
       "        vertical-align: top;\n",
       "    }\n",
       "\n",
       "    .dataframe thead th {\n",
       "        text-align: right;\n",
       "    }\n",
       "</style>\n",
       "<table border=\"1\" class=\"dataframe\">\n",
       "  <thead>\n",
       "    <tr style=\"text-align: right;\">\n",
       "      <th></th>\n",
       "      <th>index</th>\n",
       "      <th>itemDescription</th>\n",
       "    </tr>\n",
       "  </thead>\n",
       "  <tbody>\n",
       "    <tr>\n",
       "      <th>0</th>\n",
       "      <td>whole milk</td>\n",
       "      <td>2363</td>\n",
       "    </tr>\n",
       "    <tr>\n",
       "      <th>1</th>\n",
       "      <td>other vegetables</td>\n",
       "      <td>1827</td>\n",
       "    </tr>\n",
       "    <tr>\n",
       "      <th>2</th>\n",
       "      <td>rolls/buns</td>\n",
       "      <td>1646</td>\n",
       "    </tr>\n",
       "    <tr>\n",
       "      <th>3</th>\n",
       "      <td>soda</td>\n",
       "      <td>1453</td>\n",
       "    </tr>\n",
       "    <tr>\n",
       "      <th>4</th>\n",
       "      <td>yogurt</td>\n",
       "      <td>1285</td>\n",
       "    </tr>\n",
       "    <tr>\n",
       "      <th>...</th>\n",
       "      <td>...</td>\n",
       "      <td>...</td>\n",
       "    </tr>\n",
       "    <tr>\n",
       "      <th>162</th>\n",
       "      <td>rubbing alcohol</td>\n",
       "      <td>5</td>\n",
       "    </tr>\n",
       "    <tr>\n",
       "      <th>163</th>\n",
       "      <td>bags</td>\n",
       "      <td>4</td>\n",
       "    </tr>\n",
       "    <tr>\n",
       "      <th>164</th>\n",
       "      <td>baby cosmetics</td>\n",
       "      <td>3</td>\n",
       "    </tr>\n",
       "    <tr>\n",
       "      <th>165</th>\n",
       "      <td>kitchen utensil</td>\n",
       "      <td>1</td>\n",
       "    </tr>\n",
       "    <tr>\n",
       "      <th>166</th>\n",
       "      <td>preservation products</td>\n",
       "      <td>1</td>\n",
       "    </tr>\n",
       "  </tbody>\n",
       "</table>\n",
       "<p>167 rows × 2 columns</p>\n",
       "</div>"
      ],
      "text/plain": [
       "                     index  itemDescription\n",
       "0               whole milk             2363\n",
       "1         other vegetables             1827\n",
       "2               rolls/buns             1646\n",
       "3                     soda             1453\n",
       "4                   yogurt             1285\n",
       "..                     ...              ...\n",
       "162        rubbing alcohol                5\n",
       "163                   bags                4\n",
       "164         baby cosmetics                3\n",
       "165        kitchen utensil                1\n",
       "166  preservation products                1\n",
       "\n",
       "[167 rows x 2 columns]"
      ]
     },
     "execution_count": 9,
     "metadata": {},
     "output_type": "execute_result"
    }
   ],
   "source": [
    "grocery_df['itemDescription'].value_counts(ascending=False).reset_index()\n",
    "## Total number of 167 unique items"
   ]
  },
  {
   "cell_type": "code",
   "execution_count": 10,
   "id": "1b96cfd4",
   "metadata": {
    "execution": {
     "iopub.execute_input": "2023-01-08T04:05:22.533037Z",
     "iopub.status.busy": "2023-01-08T04:05:22.531899Z",
     "iopub.status.idle": "2023-01-08T04:05:22.544540Z",
     "shell.execute_reply": "2023-01-08T04:05:22.543708Z"
    },
    "papermill": {
     "duration": 0.038473,
     "end_time": "2023-01-08T04:05:22.546975",
     "exception": false,
     "start_time": "2023-01-08T04:05:22.508502",
     "status": "completed"
    },
    "tags": []
   },
   "outputs": [],
   "source": [
    "#### Number of Items bought wrt Year\n",
    "\n",
    "date_df= grocery_df.groupby('Date')['itemDescription'].count().reset_index()\n"
   ]
  },
  {
   "cell_type": "code",
   "execution_count": 11,
   "id": "99cbe423",
   "metadata": {
    "execution": {
     "iopub.execute_input": "2023-01-08T04:05:22.593465Z",
     "iopub.status.busy": "2023-01-08T04:05:22.593072Z",
     "iopub.status.idle": "2023-01-08T04:05:31.868374Z",
     "shell.execute_reply": "2023-01-08T04:05:31.867429Z"
    },
    "papermill": {
     "duration": 9.303555,
     "end_time": "2023-01-08T04:05:31.872552",
     "exception": false,
     "start_time": "2023-01-08T04:05:22.568997",
     "status": "completed"
    },
    "tags": []
   },
   "outputs": [
    {
     "data": {
      "text/plain": [
       "Text(0, 0.5, 'Number of Items Sold')"
      ]
     },
     "execution_count": 11,
     "metadata": {},
     "output_type": "execute_result"
    },
    {
     "data": {
      "image/png": "[encoded data removed]",
      "text/plain": [
       "<Figure size 1500x900 with 1 Axes>"
      ]
     },
     "metadata": {
      "needs_background": "light"
     },
     "output_type": "display_data"
    }
   ],
   "source": [
    "plt.figure(figsize=(10,6), dpi=150)\n",
    "sns.lineplot(data= date_df, x='Date', y='itemDescription')\n",
    "plt.xlabel('Date')\n",
    "plt.ylabel('Number of Items Sold')"
   ]
  },
  {
   "cell_type": "markdown",
   "id": "5bbb43f9",
   "metadata": {
    "papermill": {
     "duration": 0.025452,
     "end_time": "2023-01-08T04:05:31.924533",
     "exception": false,
     "start_time": "2023-01-08T04:05:31.899081",
     "status": "completed"
    },
    "tags": []
   },
   "source": [
    "#### Day on which Max Number of Items were sold "
   ]
  },
  {
   "cell_type": "code",
   "execution_count": 12,
   "id": "11e274ec",
   "metadata": {
    "execution": {
     "iopub.execute_input": "2023-01-08T04:05:31.977389Z",
     "iopub.status.busy": "2023-01-08T04:05:31.976643Z",
     "iopub.status.idle": "2023-01-08T04:05:31.990398Z",
     "shell.execute_reply": "2023-01-08T04:05:31.989250Z"
    },
    "papermill": {
     "duration": 0.04263,
     "end_time": "2023-01-08T04:05:31.992701",
     "exception": false,
     "start_time": "2023-01-08T04:05:31.950071",
     "status": "completed"
    },
    "tags": []
   },
   "outputs": [
    {
     "data": {
      "text/plain": [
       "'2015-01-21'"
      ]
     },
     "execution_count": 12,
     "metadata": {},
     "output_type": "execute_result"
    }
   ],
   "source": [
    "grocery_df.groupby('Date')['itemDescription'].count().idxmax()"
   ]
  },
  {
   "cell_type": "markdown",
   "id": "8ef8f376",
   "metadata": {
    "papermill": {
     "duration": 0.024753,
     "end_time": "2023-01-08T04:05:32.042664",
     "exception": false,
     "start_time": "2023-01-08T04:05:32.017911",
     "status": "completed"
    },
    "tags": []
   },
   "source": [
    "#### Day on which least number of items were sold"
   ]
  },
  {
   "cell_type": "code",
   "execution_count": 13,
   "id": "37801e1a",
   "metadata": {
    "execution": {
     "iopub.execute_input": "2023-01-08T04:05:32.094652Z",
     "iopub.status.busy": "2023-01-08T04:05:32.093932Z",
     "iopub.status.idle": "2023-01-08T04:05:32.106579Z",
     "shell.execute_reply": "2023-01-08T04:05:32.105568Z"
    },
    "papermill": {
     "duration": 0.0409,
     "end_time": "2023-01-08T04:05:32.108582",
     "exception": false,
     "start_time": "2023-01-08T04:05:32.067682",
     "status": "completed"
    },
    "tags": []
   },
   "outputs": [
    {
     "data": {
      "text/plain": [
       "'2015-01-09'"
      ]
     },
     "execution_count": 13,
     "metadata": {},
     "output_type": "execute_result"
    }
   ],
   "source": [
    "grocery_df.groupby('Date')['itemDescription'].count().idxmin()"
   ]
  },
  {
   "cell_type": "markdown",
   "id": "13758cce",
   "metadata": {
    "papermill": {
     "duration": 0.025198,
     "end_time": "2023-01-08T04:05:32.159189",
     "exception": false,
     "start_time": "2023-01-08T04:05:32.133991",
     "status": "completed"
    },
    "tags": []
   },
   "source": [
    "#### Top five most sold items"
   ]
  },
  {
   "cell_type": "code",
   "execution_count": 14,
   "id": "db77e3f6",
   "metadata": {
    "execution": {
     "iopub.execute_input": "2023-01-08T04:05:32.212538Z",
     "iopub.status.busy": "2023-01-08T04:05:32.212075Z",
     "iopub.status.idle": "2023-01-08T04:05:32.442163Z",
     "shell.execute_reply": "2023-01-08T04:05:32.441253Z"
    },
    "papermill": {
     "duration": 0.259092,
     "end_time": "2023-01-08T04:05:32.444333",
     "exception": false,
     "start_time": "2023-01-08T04:05:32.185241",
     "status": "completed"
    },
    "tags": []
   },
   "outputs": [
    {
     "data": {
      "text/plain": [
       "<Figure size 750x450 with 0 Axes>"
      ]
     },
     "metadata": {},
     "output_type": "display_data"
    },
    {
     "data": {
      "image/png": "[encoded data removed]",
      "text/plain": [
       "<Figure size 432x288 with 1 Axes>"
      ]
     },
     "metadata": {
      "needs_background": "light"
     },
     "output_type": "display_data"
    }
   ],
   "source": [
    "plt.figure(figsize=(5,3), dpi=150)\n",
    "grocery_df.itemDescription.value_counts(ascending=False).reset_index().head(5).plot(kind='bar', x='index')\n",
    "plt.xlabel('Product', size= 12)\n",
    "plt.ylabel('Number Sold', size= 12)\n",
    "plt.show()"
   ]
  },
  {
   "cell_type": "markdown",
   "id": "984ca26f",
   "metadata": {
    "papermill": {
     "duration": 0.025983,
     "end_time": "2023-01-08T04:05:32.496290",
     "exception": false,
     "start_time": "2023-01-08T04:05:32.470307",
     "status": "completed"
    },
    "tags": []
   },
   "source": [
    "## Data Transformation to implement Apriori and Association Algorithm"
   ]
  },
  {
   "cell_type": "markdown",
   "id": "51539273",
   "metadata": {
    "papermill": {
     "duration": 0.02597,
     "end_time": "2023-01-08T04:05:32.548689",
     "exception": false,
     "start_time": "2023-01-08T04:05:32.522719",
     "status": "completed"
    },
    "tags": []
   },
   "source": [
    "#### Number of Items bought by user in one transaction "
   ]
  },
  {
   "cell_type": "code",
   "execution_count": 15,
   "id": "2e558cfa",
   "metadata": {
    "execution": {
     "iopub.execute_input": "2023-01-08T04:05:32.602865Z",
     "iopub.status.busy": "2023-01-08T04:05:32.602437Z",
     "iopub.status.idle": "2023-01-08T04:05:32.619503Z",
     "shell.execute_reply": "2023-01-08T04:05:32.618448Z"
    },
    "papermill": {
     "duration": 0.047027,
     "end_time": "2023-01-08T04:05:32.621600",
     "exception": false,
     "start_time": "2023-01-08T04:05:32.574573",
     "status": "completed"
    },
    "tags": []
   },
   "outputs": [
    {
     "data": {
      "text/html": [
       "<div>\n",
       "<style scoped>\n",
       "    .dataframe tbody tr th:only-of-type {\n",
       "        vertical-align: middle;\n",
       "    }\n",
       "\n",
       "    .dataframe tbody tr th {\n",
       "        vertical-align: top;\n",
       "    }\n",
       "\n",
       "    .dataframe thead th {\n",
       "        text-align: right;\n",
       "    }\n",
       "</style>\n",
       "<table border=\"1\" class=\"dataframe\">\n",
       "  <thead>\n",
       "    <tr style=\"text-align: right;\">\n",
       "      <th></th>\n",
       "      <th>Member_number</th>\n",
       "      <th>Date</th>\n",
       "      <th>itemDescription</th>\n",
       "      <th>year</th>\n",
       "      <th>month</th>\n",
       "      <th>day</th>\n",
       "      <th>day_of_week</th>\n",
       "    </tr>\n",
       "  </thead>\n",
       "  <tbody>\n",
       "    <tr>\n",
       "      <th>0</th>\n",
       "      <td>1808</td>\n",
       "      <td>2015-07-21</td>\n",
       "      <td>tropical fruit</td>\n",
       "      <td>2015</td>\n",
       "      <td>7</td>\n",
       "      <td>21</td>\n",
       "      <td>1</td>\n",
       "    </tr>\n",
       "    <tr>\n",
       "      <th>16149</th>\n",
       "      <td>1808</td>\n",
       "      <td>2015-07-21</td>\n",
       "      <td>rolls/buns</td>\n",
       "      <td>2015</td>\n",
       "      <td>7</td>\n",
       "      <td>21</td>\n",
       "      <td>1</td>\n",
       "    </tr>\n",
       "    <tr>\n",
       "      <th>36088</th>\n",
       "      <td>1808</td>\n",
       "      <td>2015-07-21</td>\n",
       "      <td>candy</td>\n",
       "      <td>2015</td>\n",
       "      <td>7</td>\n",
       "      <td>21</td>\n",
       "      <td>1</td>\n",
       "    </tr>\n",
       "  </tbody>\n",
       "</table>\n",
       "</div>"
      ],
      "text/plain": [
       "       Member_number        Date itemDescription  year  month  day  \\\n",
       "0               1808  2015-07-21  tropical fruit  2015      7   21   \n",
       "16149           1808  2015-07-21      rolls/buns  2015      7   21   \n",
       "36088           1808  2015-07-21           candy  2015      7   21   \n",
       "\n",
       "       day_of_week  \n",
       "0                1  \n",
       "16149            1  \n",
       "36088            1  "
      ]
     },
     "execution_count": 15,
     "metadata": {},
     "output_type": "execute_result"
    }
   ],
   "source": [
    "grocery_df[(grocery_df.Member_number==1808) & (grocery_df.Date== '2015-07-21')]"
   ]
  },
  {
   "cell_type": "markdown",
   "id": "c68a1946",
   "metadata": {
    "papermill": {
     "duration": 0.026591,
     "end_time": "2023-01-08T04:05:32.674710",
     "exception": false,
     "start_time": "2023-01-08T04:05:32.648119",
     "status": "completed"
    },
    "tags": []
   },
   "source": [
    "### Creating an empty list transactions"
   ]
  },
  {
   "cell_type": "code",
   "execution_count": 16,
   "id": "7ceda297",
   "metadata": {
    "execution": {
     "iopub.execute_input": "2023-01-08T04:05:32.729874Z",
     "iopub.status.busy": "2023-01-08T04:05:32.729461Z",
     "iopub.status.idle": "2023-01-08T04:05:32.733790Z",
     "shell.execute_reply": "2023-01-08T04:05:32.732825Z"
    },
    "papermill": {
     "duration": 0.034987,
     "end_time": "2023-01-08T04:05:32.736089",
     "exception": false,
     "start_time": "2023-01-08T04:05:32.701102",
     "status": "completed"
    },
    "tags": []
   },
   "outputs": [],
   "source": [
    "member = grocery_df.Member_number.values # extracting unique members"
   ]
  },
  {
   "cell_type": "code",
   "execution_count": 17,
   "id": "2dcd0eb7",
   "metadata": {
    "execution": {
     "iopub.execute_input": "2023-01-08T04:05:32.790346Z",
     "iopub.status.busy": "2023-01-08T04:05:32.789938Z",
     "iopub.status.idle": "2023-01-08T04:05:32.794658Z",
     "shell.execute_reply": "2023-01-08T04:05:32.793645Z"
    },
    "papermill": {
     "duration": 0.034363,
     "end_time": "2023-01-08T04:05:32.796822",
     "exception": false,
     "start_time": "2023-01-08T04:05:32.762459",
     "status": "completed"
    },
    "tags": []
   },
   "outputs": [],
   "source": [
    "dates = grocery_df.Date.values # extracting Dates"
   ]
  },
  {
   "cell_type": "code",
   "execution_count": 18,
   "id": "fddf7b47",
   "metadata": {
    "execution": {
     "iopub.execute_input": "2023-01-08T04:05:32.852086Z",
     "iopub.status.busy": "2023-01-08T04:05:32.851266Z",
     "iopub.status.idle": "2023-01-08T04:07:41.628187Z",
     "shell.execute_reply": "2023-01-08T04:07:41.626856Z"
    },
    "papermill": {
     "duration": 128.807679,
     "end_time": "2023-01-08T04:07:41.631264",
     "exception": false,
     "start_time": "2023-01-08T04:05:32.823585",
     "status": "completed"
    },
    "tags": []
   },
   "outputs": [],
   "source": [
    "transactions = [list(grocery_df[(grocery_df['Member_number'] == i[0]) & (grocery_df['Date'] == i[1])].itemDescription) for i in zip(member,dates)]"
   ]
  },
  {
   "cell_type": "code",
   "execution_count": 19,
   "id": "6e8ce4e8",
   "metadata": {
    "execution": {
     "iopub.execute_input": "2023-01-08T04:07:41.687206Z",
     "iopub.status.busy": "2023-01-08T04:07:41.686701Z",
     "iopub.status.idle": "2023-01-08T04:07:41.694287Z",
     "shell.execute_reply": "2023-01-08T04:07:41.693198Z"
    },
    "papermill": {
     "duration": 0.038153,
     "end_time": "2023-01-08T04:07:41.696488",
     "exception": false,
     "start_time": "2023-01-08T04:07:41.658335",
     "status": "completed"
    },
    "tags": []
   },
   "outputs": [
    {
     "data": {
      "text/plain": [
       "['tropical fruit', 'rolls/buns', 'candy']"
      ]
     },
     "execution_count": 19,
     "metadata": {},
     "output_type": "execute_result"
    }
   ],
   "source": [
    "transactions[0]"
   ]
  },
  {
   "cell_type": "code",
   "execution_count": 20,
   "id": "f9842943",
   "metadata": {
    "execution": {
     "iopub.execute_input": "2023-01-08T04:07:41.753743Z",
     "iopub.status.busy": "2023-01-08T04:07:41.753081Z",
     "iopub.status.idle": "2023-01-08T04:07:41.758729Z",
     "shell.execute_reply": "2023-01-08T04:07:41.757466Z"
    },
    "papermill": {
     "duration": 0.037431,
     "end_time": "2023-01-08T04:07:41.761107",
     "exception": false,
     "start_time": "2023-01-08T04:07:41.723676",
     "status": "completed"
    },
    "tags": []
   },
   "outputs": [
    {
     "name": "stdout",
     "output_type": "stream",
     "text": [
      "38006\n"
     ]
    }
   ],
   "source": [
    "print(len(transactions))"
   ]
  },
  {
   "cell_type": "markdown",
   "id": "38d059fe",
   "metadata": {
    "papermill": {
     "duration": 0.026896,
     "end_time": "2023-01-08T04:07:41.815312",
     "exception": false,
     "start_time": "2023-01-08T04:07:41.788416",
     "status": "completed"
    },
    "tags": []
   },
   "source": [
    "### Creating Rules for Single Antecendent and Consequent"
   ]
  },
  {
   "cell_type": "code",
   "execution_count": 21,
   "id": "2c971434",
   "metadata": {
    "execution": {
     "iopub.execute_input": "2023-01-08T04:07:41.871069Z",
     "iopub.status.busy": "2023-01-08T04:07:41.870159Z",
     "iopub.status.idle": "2023-01-08T04:07:41.875129Z",
     "shell.execute_reply": "2023-01-08T04:07:41.874243Z"
    },
    "papermill": {
     "duration": 0.034784,
     "end_time": "2023-01-08T04:07:41.877113",
     "exception": false,
     "start_time": "2023-01-08T04:07:41.842329",
     "status": "completed"
    },
    "tags": []
   },
   "outputs": [],
   "source": [
    "from itertools import permutations"
   ]
  },
  {
   "cell_type": "code",
   "execution_count": 22,
   "id": "cf81ec3d",
   "metadata": {
    "execution": {
     "iopub.execute_input": "2023-01-08T04:07:41.933649Z",
     "iopub.status.busy": "2023-01-08T04:07:41.933222Z",
     "iopub.status.idle": "2023-01-08T04:07:41.946281Z",
     "shell.execute_reply": "2023-01-08T04:07:41.945367Z"
    },
    "papermill": {
     "duration": 0.043918,
     "end_time": "2023-01-08T04:07:41.948516",
     "exception": false,
     "start_time": "2023-01-08T04:07:41.904598",
     "status": "completed"
    },
    "tags": []
   },
   "outputs": [],
   "source": [
    "flattenlist= [i for row in transactions for  i in row  ]"
   ]
  },
  {
   "cell_type": "code",
   "execution_count": 23,
   "id": "326aad84",
   "metadata": {
    "execution": {
     "iopub.execute_input": "2023-01-08T04:07:42.004666Z",
     "iopub.status.busy": "2023-01-08T04:07:42.003557Z",
     "iopub.status.idle": "2023-01-08T04:07:42.011084Z",
     "shell.execute_reply": "2023-01-08T04:07:42.010238Z"
    },
    "papermill": {
     "duration": 0.037654,
     "end_time": "2023-01-08T04:07:42.013214",
     "exception": false,
     "start_time": "2023-01-08T04:07:41.975560",
     "status": "completed"
    },
    "tags": []
   },
   "outputs": [],
   "source": [
    "flattenlist= list(set(flattenlist))"
   ]
  },
  {
   "cell_type": "code",
   "execution_count": 24,
   "id": "befd42b1",
   "metadata": {
    "execution": {
     "iopub.execute_input": "2023-01-08T04:07:42.068511Z",
     "iopub.status.busy": "2023-01-08T04:07:42.068101Z",
     "iopub.status.idle": "2023-01-08T04:07:42.077787Z",
     "shell.execute_reply": "2023-01-08T04:07:42.076808Z"
    },
    "papermill": {
     "duration": 0.039937,
     "end_time": "2023-01-08T04:07:42.079915",
     "exception": false,
     "start_time": "2023-01-08T04:07:42.039978",
     "status": "completed"
    },
    "tags": []
   },
   "outputs": [],
   "source": [
    "rules = list(permutations(flattenlist,2))"
   ]
  },
  {
   "cell_type": "code",
   "execution_count": 25,
   "id": "3321fb54",
   "metadata": {
    "execution": {
     "iopub.execute_input": "2023-01-08T04:07:42.136259Z",
     "iopub.status.busy": "2023-01-08T04:07:42.135244Z",
     "iopub.status.idle": "2023-01-08T04:07:42.142560Z",
     "shell.execute_reply": "2023-01-08T04:07:42.141400Z"
    },
    "papermill": {
     "duration": 0.038053,
     "end_time": "2023-01-08T04:07:42.144720",
     "exception": false,
     "start_time": "2023-01-08T04:07:42.106667",
     "status": "completed"
    },
    "tags": []
   },
   "outputs": [
    {
     "data": {
      "text/plain": [
       "(('canned fruit', 'specialty cheese'), 27722)"
      ]
     },
     "execution_count": 25,
     "metadata": {},
     "output_type": "execute_result"
    }
   ],
   "source": [
    "rules[0], len(rules)"
   ]
  },
  {
   "cell_type": "markdown",
   "id": "36791343",
   "metadata": {
    "papermill": {
     "duration": 0.02714,
     "end_time": "2023-01-08T04:07:42.199379",
     "exception": false,
     "start_time": "2023-01-08T04:07:42.172239",
     "status": "completed"
    },
    "tags": []
   },
   "source": [
    "### Finding the Most Common Combination"
   ]
  },
  {
   "cell_type": "code",
   "execution_count": 26,
   "id": "ba85a7d9",
   "metadata": {
    "execution": {
     "iopub.execute_input": "2023-01-08T04:07:42.255789Z",
     "iopub.status.busy": "2023-01-08T04:07:42.255414Z",
     "iopub.status.idle": "2023-01-08T04:07:42.260294Z",
     "shell.execute_reply": "2023-01-08T04:07:42.259294Z"
    },
    "papermill": {
     "duration": 0.035675,
     "end_time": "2023-01-08T04:07:42.262452",
     "exception": false,
     "start_time": "2023-01-08T04:07:42.226777",
     "status": "completed"
    },
    "tags": []
   },
   "outputs": [],
   "source": [
    "from collections import Counter"
   ]
  },
  {
   "cell_type": "code",
   "execution_count": 27,
   "id": "cfdc2117",
   "metadata": {
    "execution": {
     "iopub.execute_input": "2023-01-08T04:07:42.320179Z",
     "iopub.status.busy": "2023-01-08T04:07:42.319140Z",
     "iopub.status.idle": "2023-01-08T04:07:42.339725Z",
     "shell.execute_reply": "2023-01-08T04:07:42.338806Z"
    },
    "papermill": {
     "duration": 0.052037,
     "end_time": "2023-01-08T04:07:42.342422",
     "exception": false,
     "start_time": "2023-01-08T04:07:42.290385",
     "status": "completed"
    },
    "tags": []
   },
   "outputs": [],
   "source": [
    "newlist= []\n",
    "for i in transactions:\n",
    "    newlist.append(tuple(i))"
   ]
  },
  {
   "cell_type": "code",
   "execution_count": 28,
   "id": "b1d411eb",
   "metadata": {
    "execution": {
     "iopub.execute_input": "2023-01-08T04:07:42.399934Z",
     "iopub.status.busy": "2023-01-08T04:07:42.399161Z",
     "iopub.status.idle": "2023-01-08T04:07:42.409059Z",
     "shell.execute_reply": "2023-01-08T04:07:42.408266Z"
    },
    "papermill": {
     "duration": 0.040469,
     "end_time": "2023-01-08T04:07:42.410922",
     "exception": false,
     "start_time": "2023-01-08T04:07:42.370453",
     "status": "completed"
    },
    "tags": []
   },
   "outputs": [],
   "source": [
    "c= Counter(newlist)"
   ]
  },
  {
   "cell_type": "code",
   "execution_count": 29,
   "id": "8090c00f",
   "metadata": {
    "execution": {
     "iopub.execute_input": "2023-01-08T04:07:42.468260Z",
     "iopub.status.busy": "2023-01-08T04:07:42.467585Z",
     "iopub.status.idle": "2023-01-08T04:07:42.474183Z",
     "shell.execute_reply": "2023-01-08T04:07:42.473454Z"
    },
    "papermill": {
     "duration": 0.037996,
     "end_time": "2023-01-08T04:07:42.476161",
     "exception": false,
     "start_time": "2023-01-08T04:07:42.438165",
     "status": "completed"
    },
    "tags": []
   },
   "outputs": [
    {
     "data": {
      "text/plain": [
       "[(('other vegetables', 'whole milk'), 98)]"
      ]
     },
     "execution_count": 29,
     "metadata": {},
     "output_type": "execute_result"
    }
   ],
   "source": [
    "c.most_common(1)"
   ]
  },
  {
   "cell_type": "markdown",
   "id": "fd862294",
   "metadata": {
    "papermill": {
     "duration": 0.027774,
     "end_time": "2023-01-08T04:07:42.532345",
     "exception": false,
     "start_time": "2023-01-08T04:07:42.504571",
     "status": "completed"
    },
    "tags": []
   },
   "source": [
    "### Encoding the data using TransactionEncoder"
   ]
  },
  {
   "cell_type": "code",
   "execution_count": 30,
   "id": "a77ca3fc",
   "metadata": {
    "execution": {
     "iopub.execute_input": "2023-01-08T04:07:42.590899Z",
     "iopub.status.busy": "2023-01-08T04:07:42.590159Z",
     "iopub.status.idle": "2023-01-08T04:07:42.709025Z",
     "shell.execute_reply": "2023-01-08T04:07:42.707890Z"
    },
    "papermill": {
     "duration": 0.151138,
     "end_time": "2023-01-08T04:07:42.711786",
     "exception": false,
     "start_time": "2023-01-08T04:07:42.560648",
     "status": "completed"
    },
    "tags": []
   },
   "outputs": [],
   "source": [
    "from mlxtend.preprocessing import TransactionEncoder"
   ]
  },
  {
   "cell_type": "code",
   "execution_count": 31,
   "id": "1780877c",
   "metadata": {
    "execution": {
     "iopub.execute_input": "2023-01-08T04:07:42.770050Z",
     "iopub.status.busy": "2023-01-08T04:07:42.769631Z",
     "iopub.status.idle": "2023-01-08T04:07:42.790032Z",
     "shell.execute_reply": "2023-01-08T04:07:42.789159Z"
    },
    "papermill": {
     "duration": 0.052838,
     "end_time": "2023-01-08T04:07:42.792419",
     "exception": false,
     "start_time": "2023-01-08T04:07:42.739581",
     "status": "completed"
    },
    "tags": []
   },
   "outputs": [],
   "source": [
    "encoder = TransactionEncoder().fit(transactions)"
   ]
  },
  {
   "cell_type": "code",
   "execution_count": 32,
   "id": "ab389ca9",
   "metadata": {
    "execution": {
     "iopub.execute_input": "2023-01-08T04:07:42.850852Z",
     "iopub.status.busy": "2023-01-08T04:07:42.849867Z",
     "iopub.status.idle": "2023-01-08T04:07:42.890750Z",
     "shell.execute_reply": "2023-01-08T04:07:42.889866Z"
    },
    "papermill": {
     "duration": 0.072944,
     "end_time": "2023-01-08T04:07:42.893284",
     "exception": false,
     "start_time": "2023-01-08T04:07:42.820340",
     "status": "completed"
    },
    "tags": []
   },
   "outputs": [],
   "source": [
    "onehot = encoder.transform(transactions)"
   ]
  },
  {
   "cell_type": "code",
   "execution_count": 33,
   "id": "c7bdd3b1",
   "metadata": {
    "execution": {
     "iopub.execute_input": "2023-01-08T04:07:42.951711Z",
     "iopub.status.busy": "2023-01-08T04:07:42.951059Z",
     "iopub.status.idle": "2023-01-08T04:07:42.972472Z",
     "shell.execute_reply": "2023-01-08T04:07:42.971683Z"
    },
    "papermill": {
     "duration": 0.053076,
     "end_time": "2023-01-08T04:07:42.974517",
     "exception": false,
     "start_time": "2023-01-08T04:07:42.921441",
     "status": "completed"
    },
    "tags": []
   },
   "outputs": [
    {
     "data": {
      "text/html": [
       "<div>\n",
       "<style scoped>\n",
       "    .dataframe tbody tr th:only-of-type {\n",
       "        vertical-align: middle;\n",
       "    }\n",
       "\n",
       "    .dataframe tbody tr th {\n",
       "        vertical-align: top;\n",
       "    }\n",
       "\n",
       "    .dataframe thead th {\n",
       "        text-align: right;\n",
       "    }\n",
       "</style>\n",
       "<table border=\"1\" class=\"dataframe\">\n",
       "  <thead>\n",
       "    <tr style=\"text-align: right;\">\n",
       "      <th></th>\n",
       "      <th>Instant food products</th>\n",
       "      <th>UHT-milk</th>\n",
       "      <th>abrasive cleaner</th>\n",
       "      <th>artif. sweetener</th>\n",
       "      <th>baby cosmetics</th>\n",
       "      <th>bags</th>\n",
       "      <th>baking powder</th>\n",
       "      <th>bathroom cleaner</th>\n",
       "      <th>beef</th>\n",
       "      <th>berries</th>\n",
       "      <th>...</th>\n",
       "      <th>turkey</th>\n",
       "      <th>vinegar</th>\n",
       "      <th>waffles</th>\n",
       "      <th>whipped/sour cream</th>\n",
       "      <th>whisky</th>\n",
       "      <th>white bread</th>\n",
       "      <th>white wine</th>\n",
       "      <th>whole milk</th>\n",
       "      <th>yogurt</th>\n",
       "      <th>zwieback</th>\n",
       "    </tr>\n",
       "  </thead>\n",
       "  <tbody>\n",
       "    <tr>\n",
       "      <th>0</th>\n",
       "      <td>False</td>\n",
       "      <td>False</td>\n",
       "      <td>False</td>\n",
       "      <td>False</td>\n",
       "      <td>False</td>\n",
       "      <td>False</td>\n",
       "      <td>False</td>\n",
       "      <td>False</td>\n",
       "      <td>False</td>\n",
       "      <td>False</td>\n",
       "      <td>...</td>\n",
       "      <td>False</td>\n",
       "      <td>False</td>\n",
       "      <td>False</td>\n",
       "      <td>False</td>\n",
       "      <td>False</td>\n",
       "      <td>False</td>\n",
       "      <td>False</td>\n",
       "      <td>False</td>\n",
       "      <td>False</td>\n",
       "      <td>False</td>\n",
       "    </tr>\n",
       "    <tr>\n",
       "      <th>1</th>\n",
       "      <td>False</td>\n",
       "      <td>False</td>\n",
       "      <td>False</td>\n",
       "      <td>False</td>\n",
       "      <td>False</td>\n",
       "      <td>False</td>\n",
       "      <td>False</td>\n",
       "      <td>False</td>\n",
       "      <td>False</td>\n",
       "      <td>False</td>\n",
       "      <td>...</td>\n",
       "      <td>False</td>\n",
       "      <td>False</td>\n",
       "      <td>False</td>\n",
       "      <td>False</td>\n",
       "      <td>False</td>\n",
       "      <td>False</td>\n",
       "      <td>False</td>\n",
       "      <td>True</td>\n",
       "      <td>False</td>\n",
       "      <td>False</td>\n",
       "    </tr>\n",
       "    <tr>\n",
       "      <th>2</th>\n",
       "      <td>False</td>\n",
       "      <td>False</td>\n",
       "      <td>False</td>\n",
       "      <td>False</td>\n",
       "      <td>False</td>\n",
       "      <td>False</td>\n",
       "      <td>False</td>\n",
       "      <td>False</td>\n",
       "      <td>False</td>\n",
       "      <td>False</td>\n",
       "      <td>...</td>\n",
       "      <td>False</td>\n",
       "      <td>False</td>\n",
       "      <td>False</td>\n",
       "      <td>False</td>\n",
       "      <td>False</td>\n",
       "      <td>False</td>\n",
       "      <td>False</td>\n",
       "      <td>False</td>\n",
       "      <td>False</td>\n",
       "      <td>False</td>\n",
       "    </tr>\n",
       "    <tr>\n",
       "      <th>3</th>\n",
       "      <td>False</td>\n",
       "      <td>False</td>\n",
       "      <td>False</td>\n",
       "      <td>False</td>\n",
       "      <td>False</td>\n",
       "      <td>False</td>\n",
       "      <td>False</td>\n",
       "      <td>False</td>\n",
       "      <td>False</td>\n",
       "      <td>False</td>\n",
       "      <td>...</td>\n",
       "      <td>False</td>\n",
       "      <td>False</td>\n",
       "      <td>False</td>\n",
       "      <td>False</td>\n",
       "      <td>False</td>\n",
       "      <td>False</td>\n",
       "      <td>False</td>\n",
       "      <td>False</td>\n",
       "      <td>False</td>\n",
       "      <td>False</td>\n",
       "    </tr>\n",
       "    <tr>\n",
       "      <th>4</th>\n",
       "      <td>False</td>\n",
       "      <td>False</td>\n",
       "      <td>False</td>\n",
       "      <td>False</td>\n",
       "      <td>False</td>\n",
       "      <td>False</td>\n",
       "      <td>False</td>\n",
       "      <td>False</td>\n",
       "      <td>False</td>\n",
       "      <td>False</td>\n",
       "      <td>...</td>\n",
       "      <td>False</td>\n",
       "      <td>False</td>\n",
       "      <td>False</td>\n",
       "      <td>False</td>\n",
       "      <td>False</td>\n",
       "      <td>True</td>\n",
       "      <td>False</td>\n",
       "      <td>True</td>\n",
       "      <td>False</td>\n",
       "      <td>False</td>\n",
       "    </tr>\n",
       "  </tbody>\n",
       "</table>\n",
       "<p>5 rows × 167 columns</p>\n",
       "</div>"
      ],
      "text/plain": [
       "   Instant food products  UHT-milk  abrasive cleaner  artif. sweetener  \\\n",
       "0                  False     False             False             False   \n",
       "1                  False     False             False             False   \n",
       "2                  False     False             False             False   \n",
       "3                  False     False             False             False   \n",
       "4                  False     False             False             False   \n",
       "\n",
       "   baby cosmetics   bags  baking powder  bathroom cleaner   beef  berries  \\\n",
       "0           False  False          False             False  False    False   \n",
       "1           False  False          False             False  False    False   \n",
       "2           False  False          False             False  False    False   \n",
       "3           False  False          False             False  False    False   \n",
       "4           False  False          False             False  False    False   \n",
       "\n",
       "   ...  turkey  vinegar  waffles  whipped/sour cream  whisky  white bread  \\\n",
       "0  ...   False    False    False               False   False        False   \n",
       "1  ...   False    False    False               False   False        False   \n",
       "2  ...   False    False    False               False   False        False   \n",
       "3  ...   False    False    False               False   False        False   \n",
       "4  ...   False    False    False               False   False         True   \n",
       "\n",
       "   white wine  whole milk  yogurt  zwieback  \n",
       "0       False       False   False     False  \n",
       "1       False        True   False     False  \n",
       "2       False       False   False     False  \n",
       "3       False       False   False     False  \n",
       "4       False        True   False     False  \n",
       "\n",
       "[5 rows x 167 columns]"
      ]
     },
     "execution_count": 33,
     "metadata": {},
     "output_type": "execute_result"
    }
   ],
   "source": [
    "onehot = pd.DataFrame(onehot, columns = encoder.columns_)\n",
    "onehot.head()"
   ]
  },
  {
   "cell_type": "code",
   "execution_count": 34,
   "id": "38192a74",
   "metadata": {
    "execution": {
     "iopub.execute_input": "2023-01-08T04:07:43.032992Z",
     "iopub.status.busy": "2023-01-08T04:07:43.032315Z",
     "iopub.status.idle": "2023-01-08T04:07:43.037913Z",
     "shell.execute_reply": "2023-01-08T04:07:43.037197Z"
    },
    "papermill": {
     "duration": 0.03712,
     "end_time": "2023-01-08T04:07:43.039944",
     "exception": false,
     "start_time": "2023-01-08T04:07:43.002824",
     "status": "completed"
    },
    "tags": []
   },
   "outputs": [
    {
     "data": {
      "text/plain": [
       "38006"
      ]
     },
     "execution_count": 34,
     "metadata": {},
     "output_type": "execute_result"
    }
   ],
   "source": [
    "len(onehot)"
   ]
  },
  {
   "cell_type": "markdown",
   "id": "18971b22",
   "metadata": {
    "papermill": {
     "duration": 0.027941,
     "end_time": "2023-01-08T04:07:43.096199",
     "exception": false,
     "start_time": "2023-01-08T04:07:43.068258",
     "status": "completed"
    },
    "tags": []
   },
   "source": [
    "### Computing Support for Single Items"
   ]
  },
  {
   "cell_type": "code",
   "execution_count": 35,
   "id": "e3a6f7d9",
   "metadata": {
    "execution": {
     "iopub.execute_input": "2023-01-08T04:07:43.154061Z",
     "iopub.status.busy": "2023-01-08T04:07:43.153667Z",
     "iopub.status.idle": "2023-01-08T04:07:43.168245Z",
     "shell.execute_reply": "2023-01-08T04:07:43.166668Z"
    },
    "papermill": {
     "duration": 0.046287,
     "end_time": "2023-01-08T04:07:43.170503",
     "exception": false,
     "start_time": "2023-01-08T04:07:43.124216",
     "status": "completed"
    },
    "tags": []
   },
   "outputs": [
    {
     "name": "stdout",
     "output_type": "stream",
     "text": [
      "Instant food products    0.004499\n",
      "UHT-milk                 0.024575\n",
      "abrasive cleaner         0.001921\n",
      "artif. sweetener         0.002947\n",
      "baby cosmetics           0.000316\n",
      "                           ...   \n",
      "white bread              0.029022\n",
      "white wine               0.013840\n",
      "whole milk               0.181445\n",
      "yogurt                   0.100931\n",
      "zwieback                 0.004868\n",
      "Length: 167, dtype: float64\n"
     ]
    }
   ],
   "source": [
    "print(onehot.mean())"
   ]
  },
  {
   "cell_type": "markdown",
   "id": "17ab44dc",
   "metadata": {
    "papermill": {
     "duration": 0.028477,
     "end_time": "2023-01-08T04:07:43.227991",
     "exception": false,
     "start_time": "2023-01-08T04:07:43.199514",
     "status": "completed"
    },
    "tags": []
   },
   "source": [
    "### Computing Support, Confidence, Zhang Metric and Lift for other vegetables <- Whole Milk"
   ]
  },
  {
   "cell_type": "markdown",
   "id": "38a63fb4",
   "metadata": {
    "papermill": {
     "duration": 0.028499,
     "end_time": "2023-01-08T04:07:43.285312",
     "exception": false,
     "start_time": "2023-01-08T04:07:43.256813",
     "status": "completed"
    },
    "tags": []
   },
   "source": [
    "#### Support: Support is an indication of how frequently the item set appears in the data set.\n",
    "\n",
    "supp(X⇒Y)=|X∪Y|n where n is number of transactions"
   ]
  },
  {
   "cell_type": "code",
   "execution_count": 36,
   "id": "8276a840",
   "metadata": {
    "execution": {
     "iopub.execute_input": "2023-01-08T04:07:43.345145Z",
     "iopub.status.busy": "2023-01-08T04:07:43.344473Z",
     "iopub.status.idle": "2023-01-08T04:07:43.350934Z",
     "shell.execute_reply": "2023-01-08T04:07:43.350170Z"
    },
    "papermill": {
     "duration": 0.039065,
     "end_time": "2023-01-08T04:07:43.353044",
     "exception": false,
     "start_time": "2023-01-08T04:07:43.313979",
     "status": "completed"
    },
    "tags": []
   },
   "outputs": [],
   "source": [
    "onehot['other vegetables & whole milk'] = np.logical_and(onehot['other vegetables'],onehot['whole milk'])"
   ]
  },
  {
   "cell_type": "code",
   "execution_count": 37,
   "id": "ad6ba61e",
   "metadata": {
    "execution": {
     "iopub.execute_input": "2023-01-08T04:07:43.414196Z",
     "iopub.status.busy": "2023-01-08T04:07:43.413382Z",
     "iopub.status.idle": "2023-01-08T04:07:43.429130Z",
     "shell.execute_reply": "2023-01-08T04:07:43.427292Z"
    },
    "papermill": {
     "duration": 0.050307,
     "end_time": "2023-01-08T04:07:43.432575",
     "exception": false,
     "start_time": "2023-01-08T04:07:43.382268",
     "status": "completed"
    },
    "tags": []
   },
   "outputs": [
    {
     "name": "stdout",
     "output_type": "stream",
     "text": [
      "Instant food products            0.004499\n",
      "UHT-milk                         0.024575\n",
      "abrasive cleaner                 0.001921\n",
      "artif. sweetener                 0.002947\n",
      "baby cosmetics                   0.000316\n",
      "                                   ...   \n",
      "white wine                       0.013840\n",
      "whole milk                       0.181445\n",
      "yogurt                           0.100931\n",
      "zwieback                         0.004868\n",
      "other vegetables & whole milk    0.021944\n",
      "Length: 168, dtype: float64\n"
     ]
    }
   ],
   "source": [
    "print(onehot.mean())"
   ]
  },
  {
   "cell_type": "markdown",
   "id": "2e37ef0d",
   "metadata": {
    "papermill": {
     "duration": 0.028434,
     "end_time": "2023-01-08T04:07:43.489957",
     "exception": false,
     "start_time": "2023-01-08T04:07:43.461523",
     "status": "completed"
    },
    "tags": []
   },
   "source": [
    "#### Confidence: For a rule X⇒Y, confidence shows the percentage in which Y is bought with X. It’s an indication of how often the rule has been found to be true.\n",
    "\n",
    "conf(X⇒Y)=supp(X∪Y)supp(X)"
   ]
  },
  {
   "cell_type": "code",
   "execution_count": 38,
   "id": "918687e0",
   "metadata": {
    "execution": {
     "iopub.execute_input": "2023-01-08T04:07:43.548845Z",
     "iopub.status.busy": "2023-01-08T04:07:43.548457Z",
     "iopub.status.idle": "2023-01-08T04:07:43.556952Z",
     "shell.execute_reply": "2023-01-08T04:07:43.556095Z"
    },
    "papermill": {
     "duration": 0.040483,
     "end_time": "2023-01-08T04:07:43.559179",
     "exception": false,
     "start_time": "2023-01-08T04:07:43.518696",
     "status": "completed"
    },
    "tags": []
   },
   "outputs": [],
   "source": [
    "support_milk= onehot['whole milk'].mean()\n",
    "support_vegetable= onehot['other vegetables & whole milk'].mean()\n",
    "support_vegandmilk= np.logical_and(onehot['other vegetables'],onehot['whole milk']).mean()"
   ]
  },
  {
   "cell_type": "code",
   "execution_count": 39,
   "id": "82da7c89",
   "metadata": {
    "execution": {
     "iopub.execute_input": "2023-01-08T04:07:43.619365Z",
     "iopub.status.busy": "2023-01-08T04:07:43.618091Z",
     "iopub.status.idle": "2023-01-08T04:07:43.623517Z",
     "shell.execute_reply": "2023-01-08T04:07:43.622385Z"
    },
    "papermill": {
     "duration": 0.037899,
     "end_time": "2023-01-08T04:07:43.625967",
     "exception": false,
     "start_time": "2023-01-08T04:07:43.588068",
     "status": "completed"
    },
    "tags": []
   },
   "outputs": [],
   "source": [
    "confidence= support_vegandmilk/support_vegetable"
   ]
  },
  {
   "cell_type": "code",
   "execution_count": 40,
   "id": "2435e3f7",
   "metadata": {
    "execution": {
     "iopub.execute_input": "2023-01-08T04:07:43.686736Z",
     "iopub.status.busy": "2023-01-08T04:07:43.686033Z",
     "iopub.status.idle": "2023-01-08T04:07:43.691955Z",
     "shell.execute_reply": "2023-01-08T04:07:43.690509Z"
    },
    "papermill": {
     "duration": 0.038331,
     "end_time": "2023-01-08T04:07:43.694292",
     "exception": false,
     "start_time": "2023-01-08T04:07:43.655961",
     "status": "completed"
    },
    "tags": []
   },
   "outputs": [
    {
     "name": "stdout",
     "output_type": "stream",
     "text": [
      "Confidence:  1.0\n"
     ]
    }
   ],
   "source": [
    "print(\"Confidence: \", confidence)"
   ]
  },
  {
   "attachments": {
    "Screenshot%202023-01-07%20at%202.41.04%20AM.png": {
     "image/png": "[encoded data removed]"
    }
   },
   "cell_type": "markdown",
   "id": "950bc8cd",
   "metadata": {
    "papermill": {
     "duration": 0.029012,
     "end_time": "2023-01-08T04:07:43.752399",
     "exception": false,
     "start_time": "2023-01-08T04:07:43.723387",
     "status": "completed"
    },
    "tags": []
   },
   "source": [
    "#### Lift: It is metric for evaluating the relationship between items.\n",
    "Numerator: Proportion of transactions that contain X and Y.\n",
    "Denominator: Proportion if X and Y assigned randomly and independently.\n",
    "![Screenshot%202023-01-07%20at%202.41.04%20AM.png](attachment:Screenshot%202023-01-07%20at%202.41.04%20AM.png)"
   ]
  },
  {
   "cell_type": "code",
   "execution_count": 41,
   "id": "5ead0683",
   "metadata": {
    "execution": {
     "iopub.execute_input": "2023-01-08T04:07:43.811727Z",
     "iopub.status.busy": "2023-01-08T04:07:43.811270Z",
     "iopub.status.idle": "2023-01-08T04:07:43.816135Z",
     "shell.execute_reply": "2023-01-08T04:07:43.815239Z"
    },
    "papermill": {
     "duration": 0.036991,
     "end_time": "2023-01-08T04:07:43.818431",
     "exception": false,
     "start_time": "2023-01-08T04:07:43.781440",
     "status": "completed"
    },
    "tags": []
   },
   "outputs": [],
   "source": [
    "lift = support_vegandmilk/(support_vegetable* support_milk)"
   ]
  },
  {
   "cell_type": "code",
   "execution_count": 42,
   "id": "339ed4c3",
   "metadata": {
    "execution": {
     "iopub.execute_input": "2023-01-08T04:07:43.877776Z",
     "iopub.status.busy": "2023-01-08T04:07:43.877019Z",
     "iopub.status.idle": "2023-01-08T04:07:43.882572Z",
     "shell.execute_reply": "2023-01-08T04:07:43.881425Z"
    },
    "papermill": {
     "duration": 0.037768,
     "end_time": "2023-01-08T04:07:43.884942",
     "exception": false,
     "start_time": "2023-01-08T04:07:43.847174",
     "status": "completed"
    },
    "tags": []
   },
   "outputs": [
    {
     "name": "stdout",
     "output_type": "stream",
     "text": [
      "Lift:  5.511310904872389\n"
     ]
    }
   ],
   "source": [
    "print(\"Lift: \", lift)"
   ]
  },
  {
   "attachments": {
    "Screenshot%202023-01-07%20at%202.43.55%20AM.png": {
     "image/png": "[encoded data removed]"
    }
   },
   "cell_type": "markdown",
   "id": "f923ae7a",
   "metadata": {
    "papermill": {
     "duration": 0.02871,
     "end_time": "2023-01-08T04:07:43.943425",
     "exception": false,
     "start_time": "2023-01-08T04:07:43.914715",
     "status": "completed"
    },
    "tags": []
   },
   "source": [
    "#### Leverage: It lies in the range -1 to +1 and is easy to interpret\n",
    "![Screenshot%202023-01-07%20at%202.43.55%20AM.png](attachment:Screenshot%202023-01-07%20at%202.43.55%20AM.png)"
   ]
  },
  {
   "cell_type": "code",
   "execution_count": 43,
   "id": "54fbb6a8",
   "metadata": {
    "execution": {
     "iopub.execute_input": "2023-01-08T04:07:44.004037Z",
     "iopub.status.busy": "2023-01-08T04:07:44.003097Z",
     "iopub.status.idle": "2023-01-08T04:07:44.007523Z",
     "shell.execute_reply": "2023-01-08T04:07:44.006766Z"
    },
    "papermill": {
     "duration": 0.036968,
     "end_time": "2023-01-08T04:07:44.009503",
     "exception": false,
     "start_time": "2023-01-08T04:07:43.972535",
     "status": "completed"
    },
    "tags": []
   },
   "outputs": [],
   "source": [
    "Leverage= support_vegandmilk - (support_vegetable* support_milk)"
   ]
  },
  {
   "cell_type": "code",
   "execution_count": 44,
   "id": "4a80a168",
   "metadata": {
    "execution": {
     "iopub.execute_input": "2023-01-08T04:07:44.068635Z",
     "iopub.status.busy": "2023-01-08T04:07:44.067955Z",
     "iopub.status.idle": "2023-01-08T04:07:44.073076Z",
     "shell.execute_reply": "2023-01-08T04:07:44.072048Z"
    },
    "papermill": {
     "duration": 0.036969,
     "end_time": "2023-01-08T04:07:44.074965",
     "exception": false,
     "start_time": "2023-01-08T04:07:44.037996",
     "status": "completed"
    },
    "tags": []
   },
   "outputs": [
    {
     "name": "stdout",
     "output_type": "stream",
     "text": [
      "Leverage:  0.01796229123860991\n"
     ]
    }
   ],
   "source": [
    "print(\"Leverage: \", Leverage)"
   ]
  },
  {
   "attachments": {
    "Screenshot%202023-01-07%20at%202.50.57%20AM.png": {
     "image/png": "[encoded data removed]"
    }
   },
   "cell_type": "markdown",
   "id": "23d104f8",
   "metadata": {
    "papermill": {
     "duration": 0.029241,
     "end_time": "2023-01-08T04:07:44.133460",
     "exception": false,
     "start_time": "2023-01-08T04:07:44.104219",
     "status": "completed"
    },
    "tags": []
   },
   "source": [
    "#### Zhang Metric: It measures association as well as dissociation. Value of +1 indicates perfect association. Value of -1 indicates perfect dissociation. \n",
    "![Screenshot%202023-01-07%20at%202.50.57%20AM.png](attachment:Screenshot%202023-01-07%20at%202.50.57%20AM.png)"
   ]
  },
  {
   "cell_type": "code",
   "execution_count": 45,
   "id": "24fe2068",
   "metadata": {
    "execution": {
     "iopub.execute_input": "2023-01-08T04:07:44.192659Z",
     "iopub.status.busy": "2023-01-08T04:07:44.191969Z",
     "iopub.status.idle": "2023-01-08T04:07:44.199098Z",
     "shell.execute_reply": "2023-01-08T04:07:44.198272Z"
    },
    "papermill": {
     "duration": 0.039417,
     "end_time": "2023-01-08T04:07:44.201202",
     "exception": false,
     "start_time": "2023-01-08T04:07:44.161785",
     "status": "completed"
    },
    "tags": []
   },
   "outputs": [],
   "source": [
    "support_milk= onehot['whole milk'].mean()\n",
    "support_vegetable= onehot['other vegetables & whole milk'].mean()\n",
    "support_vegandmilk= np.logical_and(onehot['other vegetables'],onehot['whole milk']).mean()"
   ]
  },
  {
   "cell_type": "code",
   "execution_count": 46,
   "id": "326684ce",
   "metadata": {
    "execution": {
     "iopub.execute_input": "2023-01-08T04:07:44.261021Z",
     "iopub.status.busy": "2023-01-08T04:07:44.260618Z",
     "iopub.status.idle": "2023-01-08T04:07:44.265572Z",
     "shell.execute_reply": "2023-01-08T04:07:44.264563Z"
    },
    "papermill": {
     "duration": 0.037879,
     "end_time": "2023-01-08T04:07:44.267746",
     "exception": false,
     "start_time": "2023-01-08T04:07:44.229867",
     "status": "completed"
    },
    "tags": []
   },
   "outputs": [],
   "source": [
    "num = support_vegandmilk - support_milk*support_vegetable"
   ]
  },
  {
   "cell_type": "code",
   "execution_count": 47,
   "id": "15d3b830",
   "metadata": {
    "execution": {
     "iopub.execute_input": "2023-01-08T04:07:44.327621Z",
     "iopub.status.busy": "2023-01-08T04:07:44.327194Z",
     "iopub.status.idle": "2023-01-08T04:07:44.332444Z",
     "shell.execute_reply": "2023-01-08T04:07:44.331133Z"
    },
    "papermill": {
     "duration": 0.037844,
     "end_time": "2023-01-08T04:07:44.334530",
     "exception": false,
     "start_time": "2023-01-08T04:07:44.296686",
     "status": "completed"
    },
    "tags": []
   },
   "outputs": [],
   "source": [
    "denom = max(support_vegandmilk*(1-support_vegetable), support_vegetable*(support_milk-support_vegandmilk))"
   ]
  },
  {
   "cell_type": "code",
   "execution_count": 48,
   "id": "fe7841e2",
   "metadata": {
    "execution": {
     "iopub.execute_input": "2023-01-08T04:07:44.396297Z",
     "iopub.status.busy": "2023-01-08T04:07:44.395505Z",
     "iopub.status.idle": "2023-01-08T04:07:44.402101Z",
     "shell.execute_reply": "2023-01-08T04:07:44.400473Z"
    },
    "papermill": {
     "duration": 0.039658,
     "end_time": "2023-01-08T04:07:44.404303",
     "exception": false,
     "start_time": "2023-01-08T04:07:44.364645",
     "status": "completed"
    },
    "tags": []
   },
   "outputs": [
    {
     "name": "stdout",
     "output_type": "stream",
     "text": [
      "Zhang Metric 0.8369202625632196\n"
     ]
    }
   ],
   "source": [
    "zhang = num / denom\n",
    "print(\"Zhang Metric\" ,zhang) # Value is positive, so positive association"
   ]
  },
  {
   "cell_type": "markdown",
   "id": "c21fbe94",
   "metadata": {
    "papermill": {
     "duration": 0.029076,
     "end_time": "2023-01-08T04:07:44.462911",
     "exception": false,
     "start_time": "2023-01-08T04:07:44.433835",
     "status": "completed"
    },
    "tags": []
   },
   "source": [
    "### Implementing the Apriori Algorithm: Apriori algorithm prunes itemsets on basis of min support, rather than association rules.\n",
    "\n",
    "1. Apriori prunes itemsets.\n",
    "2. Applies minimum support threshold.\n",
    "3. Modiified version can prune by number of items.\n",
    "4. Doesn't tell us about association rules.\n",
    "5. Difficult to compute for higher number of items"
   ]
  },
  {
   "cell_type": "code",
   "execution_count": 49,
   "id": "baf9a1aa",
   "metadata": {
    "execution": {
     "iopub.execute_input": "2023-01-08T04:07:44.524747Z",
     "iopub.status.busy": "2023-01-08T04:07:44.523678Z",
     "iopub.status.idle": "2023-01-08T04:07:44.836473Z",
     "shell.execute_reply": "2023-01-08T04:07:44.835319Z"
    },
    "papermill": {
     "duration": 0.346237,
     "end_time": "2023-01-08T04:07:44.839144",
     "exception": false,
     "start_time": "2023-01-08T04:07:44.492907",
     "status": "completed"
    },
    "tags": []
   },
   "outputs": [],
   "source": [
    "frequent_itemsets = apriori(onehot, min_support = 0.01, max_len = 3, use_colnames = True)"
   ]
  },
  {
   "cell_type": "code",
   "execution_count": 50,
   "id": "cdba10ca",
   "metadata": {
    "execution": {
     "iopub.execute_input": "2023-01-08T04:07:44.900885Z",
     "iopub.status.busy": "2023-01-08T04:07:44.900488Z",
     "iopub.status.idle": "2023-01-08T04:07:44.906594Z",
     "shell.execute_reply": "2023-01-08T04:07:44.905493Z"
    },
    "papermill": {
     "duration": 0.03987,
     "end_time": "2023-01-08T04:07:44.909280",
     "exception": false,
     "start_time": "2023-01-08T04:07:44.869410",
     "status": "completed"
    },
    "tags": []
   },
   "outputs": [
    {
     "name": "stdout",
     "output_type": "stream",
     "text": [
      "92\n"
     ]
    }
   ],
   "source": [
    "print(len(frequent_itemsets))"
   ]
  },
  {
   "cell_type": "code",
   "execution_count": 51,
   "id": "884f589f",
   "metadata": {
    "execution": {
     "iopub.execute_input": "2023-01-08T04:07:44.971184Z",
     "iopub.status.busy": "2023-01-08T04:07:44.970817Z",
     "iopub.status.idle": "2023-01-08T04:07:44.983444Z",
     "shell.execute_reply": "2023-01-08T04:07:44.982385Z"
    },
    "papermill": {
     "duration": 0.046197,
     "end_time": "2023-01-08T04:07:44.985687",
     "exception": false,
     "start_time": "2023-01-08T04:07:44.939490",
     "status": "completed"
    },
    "tags": []
   },
   "outputs": [
    {
     "data": {
      "text/html": [
       "<div>\n",
       "<style scoped>\n",
       "    .dataframe tbody tr th:only-of-type {\n",
       "        vertical-align: middle;\n",
       "    }\n",
       "\n",
       "    .dataframe tbody tr th {\n",
       "        vertical-align: top;\n",
       "    }\n",
       "\n",
       "    .dataframe thead th {\n",
       "        text-align: right;\n",
       "    }\n",
       "</style>\n",
       "<table border=\"1\" class=\"dataframe\">\n",
       "  <thead>\n",
       "    <tr style=\"text-align: right;\">\n",
       "      <th></th>\n",
       "      <th>support</th>\n",
       "      <th>itemsets</th>\n",
       "    </tr>\n",
       "  </thead>\n",
       "  <tbody>\n",
       "    <tr>\n",
       "      <th>0</th>\n",
       "      <td>0.024575</td>\n",
       "      <td>(UHT-milk)</td>\n",
       "    </tr>\n",
       "    <tr>\n",
       "      <th>1</th>\n",
       "      <td>0.039599</td>\n",
       "      <td>(beef)</td>\n",
       "    </tr>\n",
       "    <tr>\n",
       "      <th>2</th>\n",
       "      <td>0.024917</td>\n",
       "      <td>(berries)</td>\n",
       "    </tr>\n",
       "    <tr>\n",
       "      <th>3</th>\n",
       "      <td>0.019365</td>\n",
       "      <td>(beverages)</td>\n",
       "    </tr>\n",
       "    <tr>\n",
       "      <th>4</th>\n",
       "      <td>0.054860</td>\n",
       "      <td>(bottled beer)</td>\n",
       "    </tr>\n",
       "  </tbody>\n",
       "</table>\n",
       "</div>"
      ],
      "text/plain": [
       "    support        itemsets\n",
       "0  0.024575      (UHT-milk)\n",
       "1  0.039599          (beef)\n",
       "2  0.024917       (berries)\n",
       "3  0.019365     (beverages)\n",
       "4  0.054860  (bottled beer)"
      ]
     },
     "execution_count": 51,
     "metadata": {},
     "output_type": "execute_result"
    }
   ],
   "source": [
    "frequent_itemsets.head()"
   ]
  },
  {
   "cell_type": "markdown",
   "id": "40a21aa0",
   "metadata": {
    "papermill": {
     "duration": 0.030077,
     "end_time": "2023-01-08T04:07:45.046232",
     "exception": false,
     "start_time": "2023-01-08T04:07:45.016155",
     "status": "completed"
    },
    "tags": []
   },
   "source": [
    "### Implementing Association Rules: association_rules() takes frequent items, metric, and threshold."
   ]
  },
  {
   "cell_type": "code",
   "execution_count": 52,
   "id": "56240705",
   "metadata": {
    "execution": {
     "iopub.execute_input": "2023-01-08T04:07:45.109011Z",
     "iopub.status.busy": "2023-01-08T04:07:45.108603Z",
     "iopub.status.idle": "2023-01-08T04:07:45.113532Z",
     "shell.execute_reply": "2023-01-08T04:07:45.112502Z"
    },
    "papermill": {
     "duration": 0.039046,
     "end_time": "2023-01-08T04:07:45.115590",
     "exception": false,
     "start_time": "2023-01-08T04:07:45.076544",
     "status": "completed"
    },
    "tags": []
   },
   "outputs": [],
   "source": [
    "from mlxtend.frequent_patterns import apriori, association_rules"
   ]
  },
  {
   "cell_type": "code",
   "execution_count": 53,
   "id": "de81bbad",
   "metadata": {
    "execution": {
     "iopub.execute_input": "2023-01-08T04:07:45.177065Z",
     "iopub.status.busy": "2023-01-08T04:07:45.176661Z",
     "iopub.status.idle": "2023-01-08T04:07:45.428690Z",
     "shell.execute_reply": "2023-01-08T04:07:45.427502Z"
    },
    "papermill": {
     "duration": 0.28602,
     "end_time": "2023-01-08T04:07:45.431283",
     "exception": false,
     "start_time": "2023-01-08T04:07:45.145263",
     "status": "completed"
    },
    "tags": []
   },
   "outputs": [],
   "source": [
    "frequent_itemsets = apriori(onehot, use_colnames=True, min_support=0.01, max_len = 2)"
   ]
  },
  {
   "cell_type": "markdown",
   "id": "5e737326",
   "metadata": {
    "papermill": {
     "duration": 0.029822,
     "end_time": "2023-01-08T04:07:45.491289",
     "exception": false,
     "start_time": "2023-01-08T04:07:45.461467",
     "status": "completed"
    },
    "tags": []
   },
   "source": [
    "#### Pruning using support"
   ]
  },
  {
   "cell_type": "code",
   "execution_count": 54,
   "id": "b68042eb",
   "metadata": {
    "execution": {
     "iopub.execute_input": "2023-01-08T04:07:45.554080Z",
     "iopub.status.busy": "2023-01-08T04:07:45.553660Z",
     "iopub.status.idle": "2023-01-08T04:07:45.564320Z",
     "shell.execute_reply": "2023-01-08T04:07:45.563466Z"
    },
    "papermill": {
     "duration": 0.044214,
     "end_time": "2023-01-08T04:07:45.566388",
     "exception": false,
     "start_time": "2023-01-08T04:07:45.522174",
     "status": "completed"
    },
    "tags": []
   },
   "outputs": [],
   "source": [
    "rules = association_rules(frequent_itemsets,metric = \"support\",min_threshold = 0.0)"
   ]
  },
  {
   "cell_type": "code",
   "execution_count": 55,
   "id": "7d71f718",
   "metadata": {
    "execution": {
     "iopub.execute_input": "2023-01-08T04:07:45.628902Z",
     "iopub.status.busy": "2023-01-08T04:07:45.628048Z",
     "iopub.status.idle": "2023-01-08T04:07:45.646163Z",
     "shell.execute_reply": "2023-01-08T04:07:45.645094Z"
    },
    "papermill": {
     "duration": 0.051905,
     "end_time": "2023-01-08T04:07:45.648628",
     "exception": false,
     "start_time": "2023-01-08T04:07:45.596723",
     "status": "completed"
    },
    "tags": []
   },
   "outputs": [
    {
     "data": {
      "text/html": [
       "<div>\n",
       "<style scoped>\n",
       "    .dataframe tbody tr th:only-of-type {\n",
       "        vertical-align: middle;\n",
       "    }\n",
       "\n",
       "    .dataframe tbody tr th {\n",
       "        vertical-align: top;\n",
       "    }\n",
       "\n",
       "    .dataframe thead th {\n",
       "        text-align: right;\n",
       "    }\n",
       "</style>\n",
       "<table border=\"1\" class=\"dataframe\">\n",
       "  <thead>\n",
       "    <tr style=\"text-align: right;\">\n",
       "      <th></th>\n",
       "      <th>antecedents</th>\n",
       "      <th>consequents</th>\n",
       "      <th>antecedent support</th>\n",
       "      <th>consequent support</th>\n",
       "      <th>support</th>\n",
       "      <th>confidence</th>\n",
       "      <th>lift</th>\n",
       "      <th>leverage</th>\n",
       "      <th>conviction</th>\n",
       "    </tr>\n",
       "  </thead>\n",
       "  <tbody>\n",
       "    <tr>\n",
       "      <th>0</th>\n",
       "      <td>(bottled beer)</td>\n",
       "      <td>(whole milk)</td>\n",
       "      <td>0.054860</td>\n",
       "      <td>0.181445</td>\n",
       "      <td>0.010472</td>\n",
       "      <td>0.190887</td>\n",
       "      <td>1.052039</td>\n",
       "      <td>0.000518</td>\n",
       "      <td>1.011670</td>\n",
       "    </tr>\n",
       "    <tr>\n",
       "      <th>1</th>\n",
       "      <td>(whole milk)</td>\n",
       "      <td>(bottled beer)</td>\n",
       "      <td>0.181445</td>\n",
       "      <td>0.054860</td>\n",
       "      <td>0.010472</td>\n",
       "      <td>0.057715</td>\n",
       "      <td>1.052039</td>\n",
       "      <td>0.000518</td>\n",
       "      <td>1.003030</td>\n",
       "    </tr>\n",
       "    <tr>\n",
       "      <th>2</th>\n",
       "      <td>(bottled water)</td>\n",
       "      <td>(whole milk)</td>\n",
       "      <td>0.069226</td>\n",
       "      <td>0.181445</td>\n",
       "      <td>0.010209</td>\n",
       "      <td>0.147472</td>\n",
       "      <td>0.812766</td>\n",
       "      <td>-0.002352</td>\n",
       "      <td>0.960151</td>\n",
       "    </tr>\n",
       "    <tr>\n",
       "      <th>3</th>\n",
       "      <td>(whole milk)</td>\n",
       "      <td>(bottled water)</td>\n",
       "      <td>0.181445</td>\n",
       "      <td>0.069226</td>\n",
       "      <td>0.010209</td>\n",
       "      <td>0.056265</td>\n",
       "      <td>0.812766</td>\n",
       "      <td>-0.002352</td>\n",
       "      <td>0.986266</td>\n",
       "    </tr>\n",
       "    <tr>\n",
       "      <th>4</th>\n",
       "      <td>(whole milk)</td>\n",
       "      <td>(citrus fruit)</td>\n",
       "      <td>0.181445</td>\n",
       "      <td>0.060911</td>\n",
       "      <td>0.011261</td>\n",
       "      <td>0.062065</td>\n",
       "      <td>1.018938</td>\n",
       "      <td>0.000209</td>\n",
       "      <td>1.001230</td>\n",
       "    </tr>\n",
       "  </tbody>\n",
       "</table>\n",
       "</div>"
      ],
      "text/plain": [
       "       antecedents      consequents  antecedent support  consequent support  \\\n",
       "0   (bottled beer)     (whole milk)            0.054860            0.181445   \n",
       "1     (whole milk)   (bottled beer)            0.181445            0.054860   \n",
       "2  (bottled water)     (whole milk)            0.069226            0.181445   \n",
       "3     (whole milk)  (bottled water)            0.181445            0.069226   \n",
       "4     (whole milk)   (citrus fruit)            0.181445            0.060911   \n",
       "\n",
       "    support  confidence      lift  leverage  conviction  \n",
       "0  0.010472    0.190887  1.052039  0.000518    1.011670  \n",
       "1  0.010472    0.057715  1.052039  0.000518    1.003030  \n",
       "2  0.010209    0.147472  0.812766 -0.002352    0.960151  \n",
       "3  0.010209    0.056265  0.812766 -0.002352    0.986266  \n",
       "4  0.011261    0.062065  1.018938  0.000209    1.001230  "
      ]
     },
     "execution_count": 55,
     "metadata": {},
     "output_type": "execute_result"
    }
   ],
   "source": [
    "rules.head()"
   ]
  },
  {
   "cell_type": "code",
   "execution_count": 56,
   "id": "b74519c0",
   "metadata": {
    "execution": {
     "iopub.execute_input": "2023-01-08T04:07:45.712828Z",
     "iopub.status.busy": "2023-01-08T04:07:45.712440Z",
     "iopub.status.idle": "2023-01-08T04:07:45.718014Z",
     "shell.execute_reply": "2023-01-08T04:07:45.717324Z"
    },
    "papermill": {
     "duration": 0.040058,
     "end_time": "2023-01-08T04:07:45.720125",
     "exception": false,
     "start_time": "2023-01-08T04:07:45.680067",
     "status": "completed"
    },
    "tags": []
   },
   "outputs": [
    {
     "data": {
      "text/plain": [
       "42"
      ]
     },
     "execution_count": 56,
     "metadata": {},
     "output_type": "execute_result"
    }
   ],
   "source": [
    "len(rules)"
   ]
  },
  {
   "cell_type": "code",
   "execution_count": 57,
   "id": "47172eb1",
   "metadata": {
    "execution": {
     "iopub.execute_input": "2023-01-08T04:07:45.783375Z",
     "iopub.status.busy": "2023-01-08T04:07:45.782202Z",
     "iopub.status.idle": "2023-01-08T04:07:45.789677Z",
     "shell.execute_reply": "2023-01-08T04:07:45.788641Z"
    },
    "papermill": {
     "duration": 0.041702,
     "end_time": "2023-01-08T04:07:45.791965",
     "exception": false,
     "start_time": "2023-01-08T04:07:45.750263",
     "status": "completed"
    },
    "tags": []
   },
   "outputs": [
    {
     "data": {
      "text/plain": [
       "array([frozenset({'whole milk'}), frozenset({'bottled beer'}),\n",
       "       frozenset({'bottled water'}), frozenset({'citrus fruit'}),\n",
       "       frozenset({'rolls/buns'}), frozenset({'other vegetables'}),\n",
       "       frozenset({'sausage'}), frozenset({'soda'}), frozenset({'yogurt'}),\n",
       "       frozenset({'other vegetables & whole milk'}),\n",
       "       frozenset({'pastry'}), frozenset({'root vegetables'}),\n",
       "       frozenset({'tropical fruit'})], dtype=object)"
      ]
     },
     "execution_count": 57,
     "metadata": {},
     "output_type": "execute_result"
    }
   ],
   "source": [
    "rules.consequents.unique()"
   ]
  },
  {
   "cell_type": "markdown",
   "id": "c3150a74",
   "metadata": {
    "papermill": {
     "duration": 0.029917,
     "end_time": "2023-01-08T04:07:45.852281",
     "exception": false,
     "start_time": "2023-01-08T04:07:45.822364",
     "status": "completed"
    },
    "tags": []
   },
   "source": [
    "#### Computing Zhang's Rule to see disassociation"
   ]
  },
  {
   "cell_type": "code",
   "execution_count": 58,
   "id": "c7cbf3e9",
   "metadata": {
    "execution": {
     "iopub.execute_input": "2023-01-08T04:07:45.915964Z",
     "iopub.status.busy": "2023-01-08T04:07:45.915546Z",
     "iopub.status.idle": "2023-01-08T04:07:45.940548Z",
     "shell.execute_reply": "2023-01-08T04:07:45.939409Z"
    },
    "papermill": {
     "duration": 0.05986,
     "end_time": "2023-01-08T04:07:45.942952",
     "exception": false,
     "start_time": "2023-01-08T04:07:45.883092",
     "status": "completed"
    },
    "tags": []
   },
   "outputs": [
    {
     "data": {
      "text/html": [
       "<div>\n",
       "<style scoped>\n",
       "    .dataframe tbody tr th:only-of-type {\n",
       "        vertical-align: middle;\n",
       "    }\n",
       "\n",
       "    .dataframe tbody tr th {\n",
       "        vertical-align: top;\n",
       "    }\n",
       "\n",
       "    .dataframe thead th {\n",
       "        text-align: right;\n",
       "    }\n",
       "</style>\n",
       "<table border=\"1\" class=\"dataframe\">\n",
       "  <thead>\n",
       "    <tr style=\"text-align: right;\">\n",
       "      <th></th>\n",
       "      <th>antecedents</th>\n",
       "      <th>consequents</th>\n",
       "      <th>antecedent support</th>\n",
       "      <th>consequent support</th>\n",
       "      <th>support</th>\n",
       "      <th>confidence</th>\n",
       "      <th>lift</th>\n",
       "      <th>leverage</th>\n",
       "      <th>conviction</th>\n",
       "      <th>zhang</th>\n",
       "    </tr>\n",
       "  </thead>\n",
       "  <tbody>\n",
       "    <tr>\n",
       "      <th>0</th>\n",
       "      <td>(bottled beer)</td>\n",
       "      <td>(whole milk)</td>\n",
       "      <td>0.054860</td>\n",
       "      <td>0.181445</td>\n",
       "      <td>0.010472</td>\n",
       "      <td>0.190887</td>\n",
       "      <td>1.052039</td>\n",
       "      <td>0.000518</td>\n",
       "      <td>1.011670</td>\n",
       "      <td>0.052336</td>\n",
       "    </tr>\n",
       "    <tr>\n",
       "      <th>1</th>\n",
       "      <td>(whole milk)</td>\n",
       "      <td>(bottled beer)</td>\n",
       "      <td>0.181445</td>\n",
       "      <td>0.054860</td>\n",
       "      <td>0.010472</td>\n",
       "      <td>0.057715</td>\n",
       "      <td>1.052039</td>\n",
       "      <td>0.000518</td>\n",
       "      <td>1.003030</td>\n",
       "      <td>0.060430</td>\n",
       "    </tr>\n",
       "    <tr>\n",
       "      <th>2</th>\n",
       "      <td>(bottled water)</td>\n",
       "      <td>(whole milk)</td>\n",
       "      <td>0.069226</td>\n",
       "      <td>0.181445</td>\n",
       "      <td>0.010209</td>\n",
       "      <td>0.147472</td>\n",
       "      <td>0.812766</td>\n",
       "      <td>-0.002352</td>\n",
       "      <td>0.960151</td>\n",
       "      <td>-0.198396</td>\n",
       "    </tr>\n",
       "    <tr>\n",
       "      <th>3</th>\n",
       "      <td>(whole milk)</td>\n",
       "      <td>(bottled water)</td>\n",
       "      <td>0.181445</td>\n",
       "      <td>0.069226</td>\n",
       "      <td>0.010209</td>\n",
       "      <td>0.056265</td>\n",
       "      <td>0.812766</td>\n",
       "      <td>-0.002352</td>\n",
       "      <td>0.986266</td>\n",
       "      <td>-0.219622</td>\n",
       "    </tr>\n",
       "    <tr>\n",
       "      <th>4</th>\n",
       "      <td>(whole milk)</td>\n",
       "      <td>(citrus fruit)</td>\n",
       "      <td>0.181445</td>\n",
       "      <td>0.060911</td>\n",
       "      <td>0.011261</td>\n",
       "      <td>0.062065</td>\n",
       "      <td>1.018938</td>\n",
       "      <td>0.000209</td>\n",
       "      <td>1.001230</td>\n",
       "      <td>0.022706</td>\n",
       "    </tr>\n",
       "  </tbody>\n",
       "</table>\n",
       "</div>"
      ],
      "text/plain": [
       "       antecedents      consequents  antecedent support  consequent support  \\\n",
       "0   (bottled beer)     (whole milk)            0.054860            0.181445   \n",
       "1     (whole milk)   (bottled beer)            0.181445            0.054860   \n",
       "2  (bottled water)     (whole milk)            0.069226            0.181445   \n",
       "3     (whole milk)  (bottled water)            0.181445            0.069226   \n",
       "4     (whole milk)   (citrus fruit)            0.181445            0.060911   \n",
       "\n",
       "    support  confidence      lift  leverage  conviction     zhang  \n",
       "0  0.010472    0.190887  1.052039  0.000518    1.011670  0.052336  \n",
       "1  0.010472    0.057715  1.052039  0.000518    1.003030  0.060430  \n",
       "2  0.010209    0.147472  0.812766 -0.002352    0.960151 -0.198396  \n",
       "3  0.010209    0.056265  0.812766 -0.002352    0.986266 -0.219622  \n",
       "4  0.011261    0.062065  1.018938  0.000209    1.001230  0.022706  "
      ]
     },
     "execution_count": 58,
     "metadata": {},
     "output_type": "execute_result"
    }
   ],
   "source": [
    "def zhangs_rule(rules):\n",
    "    rule_support = rules['support'].copy()\n",
    "    rule_ante = rules['antecedent support'].copy()\n",
    "    rule_conseq = rules['consequent support'].copy()\n",
    "    num = rule_support - (rule_ante * rule_conseq)\n",
    "    denom = np.max((rule_support * (1 - rule_ante).values, \n",
    "                          rule_ante * (rule_conseq - rule_support).values), axis = 0)\n",
    "    return num / denom\n",
    "\n",
    "rules_zhangs_list = zhangs_rule(rules)\n",
    "rules = rules.assign(zhang = rules_zhangs_list)\n",
    "rules.head()"
   ]
  },
  {
   "cell_type": "markdown",
   "id": "2c2f6e9a",
   "metadata": {
    "papermill": {
     "duration": 0.031147,
     "end_time": "2023-01-08T04:07:46.005053",
     "exception": false,
     "start_time": "2023-01-08T04:07:45.973906",
     "status": "completed"
    },
    "tags": []
   },
   "source": [
    "#### filtering the value with zhang rules <0 to see disassociation"
   ]
  },
  {
   "cell_type": "code",
   "execution_count": 59,
   "id": "fc41bdb2",
   "metadata": {
    "execution": {
     "iopub.execute_input": "2023-01-08T04:07:46.068350Z",
     "iopub.status.busy": "2023-01-08T04:07:46.067574Z",
     "iopub.status.idle": "2023-01-08T04:07:46.103839Z",
     "shell.execute_reply": "2023-01-08T04:07:46.102737Z"
    },
    "papermill": {
     "duration": 0.070423,
     "end_time": "2023-01-08T04:07:46.106095",
     "exception": false,
     "start_time": "2023-01-08T04:07:46.035672",
     "status": "completed"
    },
    "tags": []
   },
   "outputs": [
    {
     "data": {
      "text/html": [
       "<div>\n",
       "<style scoped>\n",
       "    .dataframe tbody tr th:only-of-type {\n",
       "        vertical-align: middle;\n",
       "    }\n",
       "\n",
       "    .dataframe tbody tr th {\n",
       "        vertical-align: top;\n",
       "    }\n",
       "\n",
       "    .dataframe thead th {\n",
       "        text-align: right;\n",
       "    }\n",
       "</style>\n",
       "<table border=\"1\" class=\"dataframe\">\n",
       "  <thead>\n",
       "    <tr style=\"text-align: right;\">\n",
       "      <th></th>\n",
       "      <th>antecedents</th>\n",
       "      <th>consequents</th>\n",
       "      <th>antecedent support</th>\n",
       "      <th>consequent support</th>\n",
       "      <th>support</th>\n",
       "      <th>confidence</th>\n",
       "      <th>lift</th>\n",
       "      <th>leverage</th>\n",
       "      <th>conviction</th>\n",
       "      <th>zhang</th>\n",
       "    </tr>\n",
       "  </thead>\n",
       "  <tbody>\n",
       "    <tr>\n",
       "      <th>2</th>\n",
       "      <td>(bottled water)</td>\n",
       "      <td>(whole milk)</td>\n",
       "      <td>0.069226</td>\n",
       "      <td>0.181445</td>\n",
       "      <td>0.010209</td>\n",
       "      <td>0.147472</td>\n",
       "      <td>0.812766</td>\n",
       "      <td>-0.002352</td>\n",
       "      <td>0.960151</td>\n",
       "      <td>-0.198396</td>\n",
       "    </tr>\n",
       "    <tr>\n",
       "      <th>3</th>\n",
       "      <td>(whole milk)</td>\n",
       "      <td>(bottled water)</td>\n",
       "      <td>0.181445</td>\n",
       "      <td>0.069226</td>\n",
       "      <td>0.010209</td>\n",
       "      <td>0.056265</td>\n",
       "      <td>0.812766</td>\n",
       "      <td>-0.002352</td>\n",
       "      <td>0.986266</td>\n",
       "      <td>-0.219622</td>\n",
       "    </tr>\n",
       "    <tr>\n",
       "      <th>6</th>\n",
       "      <td>(other vegetables)</td>\n",
       "      <td>(rolls/buns)</td>\n",
       "      <td>0.136531</td>\n",
       "      <td>0.126822</td>\n",
       "      <td>0.015576</td>\n",
       "      <td>0.114087</td>\n",
       "      <td>0.899587</td>\n",
       "      <td>-0.001739</td>\n",
       "      <td>0.985625</td>\n",
       "      <td>-0.114473</td>\n",
       "    </tr>\n",
       "    <tr>\n",
       "      <th>7</th>\n",
       "      <td>(rolls/buns)</td>\n",
       "      <td>(other vegetables)</td>\n",
       "      <td>0.126822</td>\n",
       "      <td>0.136531</td>\n",
       "      <td>0.015576</td>\n",
       "      <td>0.122822</td>\n",
       "      <td>0.899587</td>\n",
       "      <td>-0.001739</td>\n",
       "      <td>0.984371</td>\n",
       "      <td>-0.113344</td>\n",
       "    </tr>\n",
       "    <tr>\n",
       "      <th>10</th>\n",
       "      <td>(soda)</td>\n",
       "      <td>(other vegetables)</td>\n",
       "      <td>0.111482</td>\n",
       "      <td>0.136531</td>\n",
       "      <td>0.013945</td>\n",
       "      <td>0.125089</td>\n",
       "      <td>0.916191</td>\n",
       "      <td>-0.001276</td>\n",
       "      <td>0.986921</td>\n",
       "      <td>-0.093343</td>\n",
       "    </tr>\n",
       "    <tr>\n",
       "      <th>11</th>\n",
       "      <td>(other vegetables)</td>\n",
       "      <td>(soda)</td>\n",
       "      <td>0.136531</td>\n",
       "      <td>0.111482</td>\n",
       "      <td>0.013945</td>\n",
       "      <td>0.102139</td>\n",
       "      <td>0.916191</td>\n",
       "      <td>-0.001276</td>\n",
       "      <td>0.989594</td>\n",
       "      <td>-0.095792</td>\n",
       "    </tr>\n",
       "    <tr>\n",
       "      <th>12</th>\n",
       "      <td>(other vegetables)</td>\n",
       "      <td>(whole milk)</td>\n",
       "      <td>0.136531</td>\n",
       "      <td>0.181445</td>\n",
       "      <td>0.021944</td>\n",
       "      <td>0.160725</td>\n",
       "      <td>0.885803</td>\n",
       "      <td>-0.002829</td>\n",
       "      <td>0.975312</td>\n",
       "      <td>-0.129908</td>\n",
       "    </tr>\n",
       "    <tr>\n",
       "      <th>13</th>\n",
       "      <td>(whole milk)</td>\n",
       "      <td>(other vegetables)</td>\n",
       "      <td>0.181445</td>\n",
       "      <td>0.136531</td>\n",
       "      <td>0.021944</td>\n",
       "      <td>0.120940</td>\n",
       "      <td>0.885803</td>\n",
       "      <td>-0.002829</td>\n",
       "      <td>0.982264</td>\n",
       "      <td>-0.136066</td>\n",
       "    </tr>\n",
       "    <tr>\n",
       "      <th>14</th>\n",
       "      <td>(other vegetables)</td>\n",
       "      <td>(yogurt)</td>\n",
       "      <td>0.136531</td>\n",
       "      <td>0.100931</td>\n",
       "      <td>0.012288</td>\n",
       "      <td>0.089998</td>\n",
       "      <td>0.891675</td>\n",
       "      <td>-0.001493</td>\n",
       "      <td>0.987985</td>\n",
       "      <td>-0.123340</td>\n",
       "    </tr>\n",
       "    <tr>\n",
       "      <th>15</th>\n",
       "      <td>(yogurt)</td>\n",
       "      <td>(other vegetables)</td>\n",
       "      <td>0.100931</td>\n",
       "      <td>0.136531</td>\n",
       "      <td>0.012288</td>\n",
       "      <td>0.121741</td>\n",
       "      <td>0.891675</td>\n",
       "      <td>-0.001493</td>\n",
       "      <td>0.983160</td>\n",
       "      <td>-0.119038</td>\n",
       "    </tr>\n",
       "    <tr>\n",
       "      <th>18</th>\n",
       "      <td>(pastry)</td>\n",
       "      <td>(whole milk)</td>\n",
       "      <td>0.060596</td>\n",
       "      <td>0.181445</td>\n",
       "      <td>0.010472</td>\n",
       "      <td>0.172818</td>\n",
       "      <td>0.952454</td>\n",
       "      <td>-0.000523</td>\n",
       "      <td>0.989571</td>\n",
       "      <td>-0.050458</td>\n",
       "    </tr>\n",
       "    <tr>\n",
       "      <th>19</th>\n",
       "      <td>(whole milk)</td>\n",
       "      <td>(pastry)</td>\n",
       "      <td>0.181445</td>\n",
       "      <td>0.060596</td>\n",
       "      <td>0.010472</td>\n",
       "      <td>0.057715</td>\n",
       "      <td>0.952454</td>\n",
       "      <td>-0.000523</td>\n",
       "      <td>0.996942</td>\n",
       "      <td>-0.057479</td>\n",
       "    </tr>\n",
       "    <tr>\n",
       "      <th>20</th>\n",
       "      <td>(soda)</td>\n",
       "      <td>(rolls/buns)</td>\n",
       "      <td>0.111482</td>\n",
       "      <td>0.126822</td>\n",
       "      <td>0.012209</td>\n",
       "      <td>0.109511</td>\n",
       "      <td>0.863505</td>\n",
       "      <td>-0.001930</td>\n",
       "      <td>0.980561</td>\n",
       "      <td>-0.151035</td>\n",
       "    </tr>\n",
       "    <tr>\n",
       "      <th>21</th>\n",
       "      <td>(rolls/buns)</td>\n",
       "      <td>(soda)</td>\n",
       "      <td>0.126822</td>\n",
       "      <td>0.111482</td>\n",
       "      <td>0.012209</td>\n",
       "      <td>0.096266</td>\n",
       "      <td>0.863505</td>\n",
       "      <td>-0.001930</td>\n",
       "      <td>0.983162</td>\n",
       "      <td>-0.153282</td>\n",
       "    </tr>\n",
       "    <tr>\n",
       "      <th>22</th>\n",
       "      <td>(rolls/buns)</td>\n",
       "      <td>(whole milk)</td>\n",
       "      <td>0.126822</td>\n",
       "      <td>0.181445</td>\n",
       "      <td>0.021865</td>\n",
       "      <td>0.172407</td>\n",
       "      <td>0.950187</td>\n",
       "      <td>-0.001146</td>\n",
       "      <td>0.989079</td>\n",
       "      <td>-0.056639</td>\n",
       "    </tr>\n",
       "    <tr>\n",
       "      <th>23</th>\n",
       "      <td>(whole milk)</td>\n",
       "      <td>(rolls/buns)</td>\n",
       "      <td>0.181445</td>\n",
       "      <td>0.126822</td>\n",
       "      <td>0.021865</td>\n",
       "      <td>0.120505</td>\n",
       "      <td>0.950187</td>\n",
       "      <td>-0.001146</td>\n",
       "      <td>0.992817</td>\n",
       "      <td>-0.060191</td>\n",
       "    </tr>\n",
       "    <tr>\n",
       "      <th>24</th>\n",
       "      <td>(rolls/buns)</td>\n",
       "      <td>(yogurt)</td>\n",
       "      <td>0.126822</td>\n",
       "      <td>0.100931</td>\n",
       "      <td>0.012498</td>\n",
       "      <td>0.098548</td>\n",
       "      <td>0.976383</td>\n",
       "      <td>-0.000302</td>\n",
       "      <td>0.997356</td>\n",
       "      <td>-0.026955</td>\n",
       "    </tr>\n",
       "    <tr>\n",
       "      <th>25</th>\n",
       "      <td>(yogurt)</td>\n",
       "      <td>(rolls/buns)</td>\n",
       "      <td>0.100931</td>\n",
       "      <td>0.126822</td>\n",
       "      <td>0.012498</td>\n",
       "      <td>0.123827</td>\n",
       "      <td>0.976383</td>\n",
       "      <td>-0.000302</td>\n",
       "      <td>0.996582</td>\n",
       "      <td>-0.026199</td>\n",
       "    </tr>\n",
       "    <tr>\n",
       "      <th>26</th>\n",
       "      <td>(root vegetables)</td>\n",
       "      <td>(whole milk)</td>\n",
       "      <td>0.079198</td>\n",
       "      <td>0.181445</td>\n",
       "      <td>0.011156</td>\n",
       "      <td>0.140864</td>\n",
       "      <td>0.776344</td>\n",
       "      <td>-0.003214</td>\n",
       "      <td>0.952765</td>\n",
       "      <td>-0.238308</td>\n",
       "    </tr>\n",
       "    <tr>\n",
       "      <th>27</th>\n",
       "      <td>(whole milk)</td>\n",
       "      <td>(root vegetables)</td>\n",
       "      <td>0.181445</td>\n",
       "      <td>0.079198</td>\n",
       "      <td>0.011156</td>\n",
       "      <td>0.061485</td>\n",
       "      <td>0.776344</td>\n",
       "      <td>-0.003214</td>\n",
       "      <td>0.981126</td>\n",
       "      <td>-0.260326</td>\n",
       "    </tr>\n",
       "    <tr>\n",
       "      <th>34</th>\n",
       "      <td>(soda)</td>\n",
       "      <td>(whole milk)</td>\n",
       "      <td>0.111482</td>\n",
       "      <td>0.181445</td>\n",
       "      <td>0.018155</td>\n",
       "      <td>0.162851</td>\n",
       "      <td>0.897523</td>\n",
       "      <td>-0.002073</td>\n",
       "      <td>0.977789</td>\n",
       "      <td>-0.113871</td>\n",
       "    </tr>\n",
       "    <tr>\n",
       "      <th>35</th>\n",
       "      <td>(whole milk)</td>\n",
       "      <td>(soda)</td>\n",
       "      <td>0.181445</td>\n",
       "      <td>0.111482</td>\n",
       "      <td>0.018155</td>\n",
       "      <td>0.100058</td>\n",
       "      <td>0.897523</td>\n",
       "      <td>-0.002073</td>\n",
       "      <td>0.987305</td>\n",
       "      <td>-0.122412</td>\n",
       "    </tr>\n",
       "    <tr>\n",
       "      <th>36</th>\n",
       "      <td>(tropical fruit)</td>\n",
       "      <td>(whole milk)</td>\n",
       "      <td>0.079356</td>\n",
       "      <td>0.181445</td>\n",
       "      <td>0.012735</td>\n",
       "      <td>0.160477</td>\n",
       "      <td>0.884441</td>\n",
       "      <td>-0.001664</td>\n",
       "      <td>0.975024</td>\n",
       "      <td>-0.124282</td>\n",
       "    </tr>\n",
       "    <tr>\n",
       "      <th>37</th>\n",
       "      <td>(whole milk)</td>\n",
       "      <td>(tropical fruit)</td>\n",
       "      <td>0.181445</td>\n",
       "      <td>0.079356</td>\n",
       "      <td>0.012735</td>\n",
       "      <td>0.070186</td>\n",
       "      <td>0.884441</td>\n",
       "      <td>-0.001664</td>\n",
       "      <td>0.990138</td>\n",
       "      <td>-0.137648</td>\n",
       "    </tr>\n",
       "  </tbody>\n",
       "</table>\n",
       "</div>"
      ],
      "text/plain": [
       "           antecedents         consequents  antecedent support  \\\n",
       "2      (bottled water)        (whole milk)            0.069226   \n",
       "3         (whole milk)     (bottled water)            0.181445   \n",
       "6   (other vegetables)        (rolls/buns)            0.136531   \n",
       "7         (rolls/buns)  (other vegetables)            0.126822   \n",
       "10              (soda)  (other vegetables)            0.111482   \n",
       "11  (other vegetables)              (soda)            0.136531   \n",
       "12  (other vegetables)        (whole milk)            0.136531   \n",
       "13        (whole milk)  (other vegetables)            0.181445   \n",
       "14  (other vegetables)            (yogurt)            0.136531   \n",
       "15            (yogurt)  (other vegetables)            0.100931   \n",
       "18            (pastry)        (whole milk)            0.060596   \n",
       "19        (whole milk)            (pastry)            0.181445   \n",
       "20              (soda)        (rolls/buns)            0.111482   \n",
       "21        (rolls/buns)              (soda)            0.126822   \n",
       "22        (rolls/buns)        (whole milk)            0.126822   \n",
       "23        (whole milk)        (rolls/buns)            0.181445   \n",
       "24        (rolls/buns)            (yogurt)            0.126822   \n",
       "25            (yogurt)        (rolls/buns)            0.100931   \n",
       "26   (root vegetables)        (whole milk)            0.079198   \n",
       "27        (whole milk)   (root vegetables)            0.181445   \n",
       "34              (soda)        (whole milk)            0.111482   \n",
       "35        (whole milk)              (soda)            0.181445   \n",
       "36    (tropical fruit)        (whole milk)            0.079356   \n",
       "37        (whole milk)    (tropical fruit)            0.181445   \n",
       "\n",
       "    consequent support   support  confidence      lift  leverage  conviction  \\\n",
       "2             0.181445  0.010209    0.147472  0.812766 -0.002352    0.960151   \n",
       "3             0.069226  0.010209    0.056265  0.812766 -0.002352    0.986266   \n",
       "6             0.126822  0.015576    0.114087  0.899587 -0.001739    0.985625   \n",
       "7             0.136531  0.015576    0.122822  0.899587 -0.001739    0.984371   \n",
       "10            0.136531  0.013945    0.125089  0.916191 -0.001276    0.986921   \n",
       "11            0.111482  0.013945    0.102139  0.916191 -0.001276    0.989594   \n",
       "12            0.181445  0.021944    0.160725  0.885803 -0.002829    0.975312   \n",
       "13            0.136531  0.021944    0.120940  0.885803 -0.002829    0.982264   \n",
       "14            0.100931  0.012288    0.089998  0.891675 -0.001493    0.987985   \n",
       "15            0.136531  0.012288    0.121741  0.891675 -0.001493    0.983160   \n",
       "18            0.181445  0.010472    0.172818  0.952454 -0.000523    0.989571   \n",
       "19            0.060596  0.010472    0.057715  0.952454 -0.000523    0.996942   \n",
       "20            0.126822  0.012209    0.109511  0.863505 -0.001930    0.980561   \n",
       "21            0.111482  0.012209    0.096266  0.863505 -0.001930    0.983162   \n",
       "22            0.181445  0.021865    0.172407  0.950187 -0.001146    0.989079   \n",
       "23            0.126822  0.021865    0.120505  0.950187 -0.001146    0.992817   \n",
       "24            0.100931  0.012498    0.098548  0.976383 -0.000302    0.997356   \n",
       "25            0.126822  0.012498    0.123827  0.976383 -0.000302    0.996582   \n",
       "26            0.181445  0.011156    0.140864  0.776344 -0.003214    0.952765   \n",
       "27            0.079198  0.011156    0.061485  0.776344 -0.003214    0.981126   \n",
       "34            0.181445  0.018155    0.162851  0.897523 -0.002073    0.977789   \n",
       "35            0.111482  0.018155    0.100058  0.897523 -0.002073    0.987305   \n",
       "36            0.181445  0.012735    0.160477  0.884441 -0.001664    0.975024   \n",
       "37            0.079356  0.012735    0.070186  0.884441 -0.001664    0.990138   \n",
       "\n",
       "       zhang  \n",
       "2  -0.198396  \n",
       "3  -0.219622  \n",
       "6  -0.114473  \n",
       "7  -0.113344  \n",
       "10 -0.093343  \n",
       "11 -0.095792  \n",
       "12 -0.129908  \n",
       "13 -0.136066  \n",
       "14 -0.123340  \n",
       "15 -0.119038  \n",
       "18 -0.050458  \n",
       "19 -0.057479  \n",
       "20 -0.151035  \n",
       "21 -0.153282  \n",
       "22 -0.056639  \n",
       "23 -0.060191  \n",
       "24 -0.026955  \n",
       "25 -0.026199  \n",
       "26 -0.238308  \n",
       "27 -0.260326  \n",
       "34 -0.113871  \n",
       "35 -0.122412  \n",
       "36 -0.124282  \n",
       "37 -0.137648  "
      ]
     },
     "execution_count": 59,
     "metadata": {},
     "output_type": "execute_result"
    }
   ],
   "source": [
    "rules[rules.zhang<=0]"
   ]
  },
  {
   "cell_type": "markdown",
   "id": "a93d726c",
   "metadata": {
    "papermill": {
     "duration": 0.031026,
     "end_time": "2023-01-08T04:07:46.168569",
     "exception": false,
     "start_time": "2023-01-08T04:07:46.137543",
     "status": "completed"
    },
    "tags": []
   },
   "source": [
    "#### filtering the value with zhang rules >0  to see positive association "
   ]
  },
  {
   "cell_type": "code",
   "execution_count": 60,
   "id": "8b202890",
   "metadata": {
    "execution": {
     "iopub.execute_input": "2023-01-08T04:07:46.232608Z",
     "iopub.status.busy": "2023-01-08T04:07:46.232227Z",
     "iopub.status.idle": "2023-01-08T04:07:46.263173Z",
     "shell.execute_reply": "2023-01-08T04:07:46.262082Z"
    },
    "papermill": {
     "duration": 0.065881,
     "end_time": "2023-01-08T04:07:46.265540",
     "exception": false,
     "start_time": "2023-01-08T04:07:46.199659",
     "status": "completed"
    },
    "tags": []
   },
   "outputs": [
    {
     "data": {
      "text/html": [
       "<div>\n",
       "<style scoped>\n",
       "    .dataframe tbody tr th:only-of-type {\n",
       "        vertical-align: middle;\n",
       "    }\n",
       "\n",
       "    .dataframe tbody tr th {\n",
       "        vertical-align: top;\n",
       "    }\n",
       "\n",
       "    .dataframe thead th {\n",
       "        text-align: right;\n",
       "    }\n",
       "</style>\n",
       "<table border=\"1\" class=\"dataframe\">\n",
       "  <thead>\n",
       "    <tr style=\"text-align: right;\">\n",
       "      <th></th>\n",
       "      <th>antecedents</th>\n",
       "      <th>consequents</th>\n",
       "      <th>antecedent support</th>\n",
       "      <th>consequent support</th>\n",
       "      <th>support</th>\n",
       "      <th>confidence</th>\n",
       "      <th>lift</th>\n",
       "      <th>leverage</th>\n",
       "      <th>conviction</th>\n",
       "      <th>zhang</th>\n",
       "    </tr>\n",
       "  </thead>\n",
       "  <tbody>\n",
       "    <tr>\n",
       "      <th>41</th>\n",
       "      <td>(whole milk)</td>\n",
       "      <td>(other vegetables &amp; whole milk)</td>\n",
       "      <td>0.181445</td>\n",
       "      <td>0.021944</td>\n",
       "      <td>0.021944</td>\n",
       "      <td>0.120940</td>\n",
       "      <td>5.511311</td>\n",
       "      <td>0.017962</td>\n",
       "      <td>1.112615</td>\n",
       "      <td>1.000000</td>\n",
       "    </tr>\n",
       "    <tr>\n",
       "      <th>16</th>\n",
       "      <td>(other vegetables)</td>\n",
       "      <td>(other vegetables &amp; whole milk)</td>\n",
       "      <td>0.136531</td>\n",
       "      <td>0.021944</td>\n",
       "      <td>0.021944</td>\n",
       "      <td>0.160725</td>\n",
       "      <td>7.324340</td>\n",
       "      <td>0.018948</td>\n",
       "      <td>1.165358</td>\n",
       "      <td>1.000000</td>\n",
       "    </tr>\n",
       "    <tr>\n",
       "      <th>17</th>\n",
       "      <td>(other vegetables &amp; whole milk)</td>\n",
       "      <td>(other vegetables)</td>\n",
       "      <td>0.021944</td>\n",
       "      <td>0.136531</td>\n",
       "      <td>0.021944</td>\n",
       "      <td>1.000000</td>\n",
       "      <td>7.324340</td>\n",
       "      <td>0.018948</td>\n",
       "      <td>inf</td>\n",
       "      <td>0.882842</td>\n",
       "    </tr>\n",
       "    <tr>\n",
       "      <th>40</th>\n",
       "      <td>(other vegetables &amp; whole milk)</td>\n",
       "      <td>(whole milk)</td>\n",
       "      <td>0.021944</td>\n",
       "      <td>0.181445</td>\n",
       "      <td>0.021944</td>\n",
       "      <td>1.000000</td>\n",
       "      <td>5.511311</td>\n",
       "      <td>0.017962</td>\n",
       "      <td>inf</td>\n",
       "      <td>0.836920</td>\n",
       "    </tr>\n",
       "    <tr>\n",
       "      <th>33</th>\n",
       "      <td>(yogurt)</td>\n",
       "      <td>(sausage)</td>\n",
       "      <td>0.100931</td>\n",
       "      <td>0.074225</td>\n",
       "      <td>0.010051</td>\n",
       "      <td>0.099583</td>\n",
       "      <td>1.341633</td>\n",
       "      <td>0.002559</td>\n",
       "      <td>1.028162</td>\n",
       "      <td>0.283226</td>\n",
       "    </tr>\n",
       "    <tr>\n",
       "      <th>32</th>\n",
       "      <td>(sausage)</td>\n",
       "      <td>(yogurt)</td>\n",
       "      <td>0.074225</td>\n",
       "      <td>0.100931</td>\n",
       "      <td>0.010051</td>\n",
       "      <td>0.135413</td>\n",
       "      <td>1.341633</td>\n",
       "      <td>0.002559</td>\n",
       "      <td>1.039882</td>\n",
       "      <td>0.275056</td>\n",
       "    </tr>\n",
       "    <tr>\n",
       "      <th>29</th>\n",
       "      <td>(soda)</td>\n",
       "      <td>(sausage)</td>\n",
       "      <td>0.111482</td>\n",
       "      <td>0.074225</td>\n",
       "      <td>0.010051</td>\n",
       "      <td>0.090158</td>\n",
       "      <td>1.214658</td>\n",
       "      <td>0.001776</td>\n",
       "      <td>1.017512</td>\n",
       "      <td>0.198896</td>\n",
       "    </tr>\n",
       "    <tr>\n",
       "      <th>28</th>\n",
       "      <td>(sausage)</td>\n",
       "      <td>(soda)</td>\n",
       "      <td>0.074225</td>\n",
       "      <td>0.111482</td>\n",
       "      <td>0.010051</td>\n",
       "      <td>0.135413</td>\n",
       "      <td>1.214658</td>\n",
       "      <td>0.001776</td>\n",
       "      <td>1.027679</td>\n",
       "      <td>0.190892</td>\n",
       "    </tr>\n",
       "    <tr>\n",
       "      <th>31</th>\n",
       "      <td>(whole milk)</td>\n",
       "      <td>(sausage)</td>\n",
       "      <td>0.181445</td>\n",
       "      <td>0.074225</td>\n",
       "      <td>0.014998</td>\n",
       "      <td>0.082657</td>\n",
       "      <td>1.113593</td>\n",
       "      <td>0.001530</td>\n",
       "      <td>1.009191</td>\n",
       "      <td>0.124617</td>\n",
       "    </tr>\n",
       "    <tr>\n",
       "      <th>30</th>\n",
       "      <td>(sausage)</td>\n",
       "      <td>(whole milk)</td>\n",
       "      <td>0.074225</td>\n",
       "      <td>0.181445</td>\n",
       "      <td>0.014998</td>\n",
       "      <td>0.202056</td>\n",
       "      <td>1.113593</td>\n",
       "      <td>0.001530</td>\n",
       "      <td>1.025830</td>\n",
       "      <td>0.110185</td>\n",
       "    </tr>\n",
       "    <tr>\n",
       "      <th>9</th>\n",
       "      <td>(other vegetables)</td>\n",
       "      <td>(sausage)</td>\n",
       "      <td>0.136531</td>\n",
       "      <td>0.074225</td>\n",
       "      <td>0.010840</td>\n",
       "      <td>0.079399</td>\n",
       "      <td>1.069702</td>\n",
       "      <td>0.000706</td>\n",
       "      <td>1.005620</td>\n",
       "      <td>0.075463</td>\n",
       "    </tr>\n",
       "    <tr>\n",
       "      <th>8</th>\n",
       "      <td>(sausage)</td>\n",
       "      <td>(other vegetables)</td>\n",
       "      <td>0.074225</td>\n",
       "      <td>0.136531</td>\n",
       "      <td>0.010840</td>\n",
       "      <td>0.146048</td>\n",
       "      <td>1.069702</td>\n",
       "      <td>0.000706</td>\n",
       "      <td>1.011144</td>\n",
       "      <td>0.070384</td>\n",
       "    </tr>\n",
       "    <tr>\n",
       "      <th>1</th>\n",
       "      <td>(whole milk)</td>\n",
       "      <td>(bottled beer)</td>\n",
       "      <td>0.181445</td>\n",
       "      <td>0.054860</td>\n",
       "      <td>0.010472</td>\n",
       "      <td>0.057715</td>\n",
       "      <td>1.052039</td>\n",
       "      <td>0.000518</td>\n",
       "      <td>1.003030</td>\n",
       "      <td>0.060430</td>\n",
       "    </tr>\n",
       "    <tr>\n",
       "      <th>0</th>\n",
       "      <td>(bottled beer)</td>\n",
       "      <td>(whole milk)</td>\n",
       "      <td>0.054860</td>\n",
       "      <td>0.181445</td>\n",
       "      <td>0.010472</td>\n",
       "      <td>0.190887</td>\n",
       "      <td>1.052039</td>\n",
       "      <td>0.000518</td>\n",
       "      <td>1.011670</td>\n",
       "      <td>0.052336</td>\n",
       "    </tr>\n",
       "    <tr>\n",
       "      <th>4</th>\n",
       "      <td>(whole milk)</td>\n",
       "      <td>(citrus fruit)</td>\n",
       "      <td>0.181445</td>\n",
       "      <td>0.060911</td>\n",
       "      <td>0.011261</td>\n",
       "      <td>0.062065</td>\n",
       "      <td>1.018938</td>\n",
       "      <td>0.000209</td>\n",
       "      <td>1.001230</td>\n",
       "      <td>0.022706</td>\n",
       "    </tr>\n",
       "    <tr>\n",
       "      <th>5</th>\n",
       "      <td>(citrus fruit)</td>\n",
       "      <td>(whole milk)</td>\n",
       "      <td>0.060911</td>\n",
       "      <td>0.181445</td>\n",
       "      <td>0.011261</td>\n",
       "      <td>0.184881</td>\n",
       "      <td>1.018938</td>\n",
       "      <td>0.000209</td>\n",
       "      <td>1.004216</td>\n",
       "      <td>0.019791</td>\n",
       "    </tr>\n",
       "    <tr>\n",
       "      <th>39</th>\n",
       "      <td>(whole milk)</td>\n",
       "      <td>(yogurt)</td>\n",
       "      <td>0.181445</td>\n",
       "      <td>0.100931</td>\n",
       "      <td>0.018392</td>\n",
       "      <td>0.101363</td>\n",
       "      <td>1.004277</td>\n",
       "      <td>0.000078</td>\n",
       "      <td>1.000480</td>\n",
       "      <td>0.005203</td>\n",
       "    </tr>\n",
       "    <tr>\n",
       "      <th>38</th>\n",
       "      <td>(yogurt)</td>\n",
       "      <td>(whole milk)</td>\n",
       "      <td>0.100931</td>\n",
       "      <td>0.181445</td>\n",
       "      <td>0.018392</td>\n",
       "      <td>0.182221</td>\n",
       "      <td>1.004277</td>\n",
       "      <td>0.000078</td>\n",
       "      <td>1.000949</td>\n",
       "      <td>0.004737</td>\n",
       "    </tr>\n",
       "  </tbody>\n",
       "</table>\n",
       "</div>"
      ],
      "text/plain": [
       "                        antecedents                      consequents  \\\n",
       "41                     (whole milk)  (other vegetables & whole milk)   \n",
       "16               (other vegetables)  (other vegetables & whole milk)   \n",
       "17  (other vegetables & whole milk)               (other vegetables)   \n",
       "40  (other vegetables & whole milk)                     (whole milk)   \n",
       "33                         (yogurt)                        (sausage)   \n",
       "32                        (sausage)                         (yogurt)   \n",
       "29                           (soda)                        (sausage)   \n",
       "28                        (sausage)                           (soda)   \n",
       "31                     (whole milk)                        (sausage)   \n",
       "30                        (sausage)                     (whole milk)   \n",
       "9                (other vegetables)                        (sausage)   \n",
       "8                         (sausage)               (other vegetables)   \n",
       "1                      (whole milk)                   (bottled beer)   \n",
       "0                    (bottled beer)                     (whole milk)   \n",
       "4                      (whole milk)                   (citrus fruit)   \n",
       "5                    (citrus fruit)                     (whole milk)   \n",
       "39                     (whole milk)                         (yogurt)   \n",
       "38                         (yogurt)                     (whole milk)   \n",
       "\n",
       "    antecedent support  consequent support   support  confidence      lift  \\\n",
       "41            0.181445            0.021944  0.021944    0.120940  5.511311   \n",
       "16            0.136531            0.021944  0.021944    0.160725  7.324340   \n",
       "17            0.021944            0.136531  0.021944    1.000000  7.324340   \n",
       "40            0.021944            0.181445  0.021944    1.000000  5.511311   \n",
       "33            0.100931            0.074225  0.010051    0.099583  1.341633   \n",
       "32            0.074225            0.100931  0.010051    0.135413  1.341633   \n",
       "29            0.111482            0.074225  0.010051    0.090158  1.214658   \n",
       "28            0.074225            0.111482  0.010051    0.135413  1.214658   \n",
       "31            0.181445            0.074225  0.014998    0.082657  1.113593   \n",
       "30            0.074225            0.181445  0.014998    0.202056  1.113593   \n",
       "9             0.136531            0.074225  0.010840    0.079399  1.069702   \n",
       "8             0.074225            0.136531  0.010840    0.146048  1.069702   \n",
       "1             0.181445            0.054860  0.010472    0.057715  1.052039   \n",
       "0             0.054860            0.181445  0.010472    0.190887  1.052039   \n",
       "4             0.181445            0.060911  0.011261    0.062065  1.018938   \n",
       "5             0.060911            0.181445  0.011261    0.184881  1.018938   \n",
       "39            0.181445            0.100931  0.018392    0.101363  1.004277   \n",
       "38            0.100931            0.181445  0.018392    0.182221  1.004277   \n",
       "\n",
       "    leverage  conviction     zhang  \n",
       "41  0.017962    1.112615  1.000000  \n",
       "16  0.018948    1.165358  1.000000  \n",
       "17  0.018948         inf  0.882842  \n",
       "40  0.017962         inf  0.836920  \n",
       "33  0.002559    1.028162  0.283226  \n",
       "32  0.002559    1.039882  0.275056  \n",
       "29  0.001776    1.017512  0.198896  \n",
       "28  0.001776    1.027679  0.190892  \n",
       "31  0.001530    1.009191  0.124617  \n",
       "30  0.001530    1.025830  0.110185  \n",
       "9   0.000706    1.005620  0.075463  \n",
       "8   0.000706    1.011144  0.070384  \n",
       "1   0.000518    1.003030  0.060430  \n",
       "0   0.000518    1.011670  0.052336  \n",
       "4   0.000209    1.001230  0.022706  \n",
       "5   0.000209    1.004216  0.019791  \n",
       "39  0.000078    1.000480  0.005203  \n",
       "38  0.000078    1.000949  0.004737  "
      ]
     },
     "execution_count": 60,
     "metadata": {},
     "output_type": "execute_result"
    }
   ],
   "source": [
    "rules[rules.zhang>0].sort_values('zhang', ascending=False) "
   ]
  },
  {
   "cell_type": "markdown",
   "id": "27cdd334",
   "metadata": {
    "papermill": {
     "duration": 0.031712,
     "end_time": "2023-01-08T04:07:46.329551",
     "exception": false,
     "start_time": "2023-01-08T04:07:46.297839",
     "status": "completed"
    },
    "tags": []
   },
   "source": [
    "#### Pruning using Leverage metric"
   ]
  },
  {
   "cell_type": "code",
   "execution_count": 61,
   "id": "300f95d2",
   "metadata": {
    "execution": {
     "iopub.execute_input": "2023-01-08T04:07:46.395223Z",
     "iopub.status.busy": "2023-01-08T04:07:46.394178Z",
     "iopub.status.idle": "2023-01-08T04:07:46.402360Z",
     "shell.execute_reply": "2023-01-08T04:07:46.401554Z"
    },
    "papermill": {
     "duration": 0.043539,
     "end_time": "2023-01-08T04:07:46.404371",
     "exception": false,
     "start_time": "2023-01-08T04:07:46.360832",
     "status": "completed"
    },
    "tags": []
   },
   "outputs": [],
   "source": [
    "rules = association_rules(frequent_itemsets,metric = \"leverage\", min_threshold = 0)"
   ]
  },
  {
   "cell_type": "code",
   "execution_count": 62,
   "id": "e4b8b4b9",
   "metadata": {
    "execution": {
     "iopub.execute_input": "2023-01-08T04:07:46.471158Z",
     "iopub.status.busy": "2023-01-08T04:07:46.469971Z",
     "iopub.status.idle": "2023-01-08T04:07:46.488593Z",
     "shell.execute_reply": "2023-01-08T04:07:46.487622Z"
    },
    "papermill": {
     "duration": 0.053859,
     "end_time": "2023-01-08T04:07:46.490635",
     "exception": false,
     "start_time": "2023-01-08T04:07:46.436776",
     "status": "completed"
    },
    "tags": []
   },
   "outputs": [
    {
     "data": {
      "text/html": [
       "<div>\n",
       "<style scoped>\n",
       "    .dataframe tbody tr th:only-of-type {\n",
       "        vertical-align: middle;\n",
       "    }\n",
       "\n",
       "    .dataframe tbody tr th {\n",
       "        vertical-align: top;\n",
       "    }\n",
       "\n",
       "    .dataframe thead th {\n",
       "        text-align: right;\n",
       "    }\n",
       "</style>\n",
       "<table border=\"1\" class=\"dataframe\">\n",
       "  <thead>\n",
       "    <tr style=\"text-align: right;\">\n",
       "      <th></th>\n",
       "      <th>antecedents</th>\n",
       "      <th>consequents</th>\n",
       "      <th>antecedent support</th>\n",
       "      <th>consequent support</th>\n",
       "      <th>support</th>\n",
       "      <th>confidence</th>\n",
       "      <th>lift</th>\n",
       "      <th>leverage</th>\n",
       "      <th>conviction</th>\n",
       "    </tr>\n",
       "  </thead>\n",
       "  <tbody>\n",
       "    <tr>\n",
       "      <th>0</th>\n",
       "      <td>(bottled beer)</td>\n",
       "      <td>(whole milk)</td>\n",
       "      <td>0.054860</td>\n",
       "      <td>0.181445</td>\n",
       "      <td>0.010472</td>\n",
       "      <td>0.190887</td>\n",
       "      <td>1.052039</td>\n",
       "      <td>0.000518</td>\n",
       "      <td>1.011670</td>\n",
       "    </tr>\n",
       "    <tr>\n",
       "      <th>1</th>\n",
       "      <td>(whole milk)</td>\n",
       "      <td>(bottled beer)</td>\n",
       "      <td>0.181445</td>\n",
       "      <td>0.054860</td>\n",
       "      <td>0.010472</td>\n",
       "      <td>0.057715</td>\n",
       "      <td>1.052039</td>\n",
       "      <td>0.000518</td>\n",
       "      <td>1.003030</td>\n",
       "    </tr>\n",
       "    <tr>\n",
       "      <th>2</th>\n",
       "      <td>(whole milk)</td>\n",
       "      <td>(citrus fruit)</td>\n",
       "      <td>0.181445</td>\n",
       "      <td>0.060911</td>\n",
       "      <td>0.011261</td>\n",
       "      <td>0.062065</td>\n",
       "      <td>1.018938</td>\n",
       "      <td>0.000209</td>\n",
       "      <td>1.001230</td>\n",
       "    </tr>\n",
       "    <tr>\n",
       "      <th>3</th>\n",
       "      <td>(citrus fruit)</td>\n",
       "      <td>(whole milk)</td>\n",
       "      <td>0.060911</td>\n",
       "      <td>0.181445</td>\n",
       "      <td>0.011261</td>\n",
       "      <td>0.184881</td>\n",
       "      <td>1.018938</td>\n",
       "      <td>0.000209</td>\n",
       "      <td>1.004216</td>\n",
       "    </tr>\n",
       "    <tr>\n",
       "      <th>4</th>\n",
       "      <td>(sausage)</td>\n",
       "      <td>(other vegetables)</td>\n",
       "      <td>0.074225</td>\n",
       "      <td>0.136531</td>\n",
       "      <td>0.010840</td>\n",
       "      <td>0.146048</td>\n",
       "      <td>1.069702</td>\n",
       "      <td>0.000706</td>\n",
       "      <td>1.011144</td>\n",
       "    </tr>\n",
       "  </tbody>\n",
       "</table>\n",
       "</div>"
      ],
      "text/plain": [
       "      antecedents         consequents  antecedent support  consequent support  \\\n",
       "0  (bottled beer)        (whole milk)            0.054860            0.181445   \n",
       "1    (whole milk)      (bottled beer)            0.181445            0.054860   \n",
       "2    (whole milk)      (citrus fruit)            0.181445            0.060911   \n",
       "3  (citrus fruit)        (whole milk)            0.060911            0.181445   \n",
       "4       (sausage)  (other vegetables)            0.074225            0.136531   \n",
       "\n",
       "    support  confidence      lift  leverage  conviction  \n",
       "0  0.010472    0.190887  1.052039  0.000518    1.011670  \n",
       "1  0.010472    0.057715  1.052039  0.000518    1.003030  \n",
       "2  0.011261    0.062065  1.018938  0.000209    1.001230  \n",
       "3  0.011261    0.184881  1.018938  0.000209    1.004216  \n",
       "4  0.010840    0.146048  1.069702  0.000706    1.011144  "
      ]
     },
     "execution_count": 62,
     "metadata": {},
     "output_type": "execute_result"
    }
   ],
   "source": [
    "rules.head()"
   ]
  },
  {
   "cell_type": "code",
   "execution_count": 63,
   "id": "691a9dff",
   "metadata": {
    "execution": {
     "iopub.execute_input": "2023-01-08T04:07:46.557584Z",
     "iopub.status.busy": "2023-01-08T04:07:46.556932Z",
     "iopub.status.idle": "2023-01-08T04:07:46.563794Z",
     "shell.execute_reply": "2023-01-08T04:07:46.562731Z"
    },
    "papermill": {
     "duration": 0.042631,
     "end_time": "2023-01-08T04:07:46.565855",
     "exception": false,
     "start_time": "2023-01-08T04:07:46.523224",
     "status": "completed"
    },
    "tags": []
   },
   "outputs": [
    {
     "data": {
      "text/plain": [
       "18"
      ]
     },
     "execution_count": 63,
     "metadata": {},
     "output_type": "execute_result"
    }
   ],
   "source": [
    "len(rules)"
   ]
  },
  {
   "cell_type": "code",
   "execution_count": 64,
   "id": "1863de54",
   "metadata": {
    "execution": {
     "iopub.execute_input": "2023-01-08T04:07:46.633751Z",
     "iopub.status.busy": "2023-01-08T04:07:46.633028Z",
     "iopub.status.idle": "2023-01-08T04:07:46.639296Z",
     "shell.execute_reply": "2023-01-08T04:07:46.638584Z"
    },
    "papermill": {
     "duration": 0.042708,
     "end_time": "2023-01-08T04:07:46.641577",
     "exception": false,
     "start_time": "2023-01-08T04:07:46.598869",
     "status": "completed"
    },
    "tags": []
   },
   "outputs": [
    {
     "data": {
      "text/plain": [
       "array([frozenset({'whole milk'}), frozenset({'bottled beer'}),\n",
       "       frozenset({'citrus fruit'}), frozenset({'other vegetables'}),\n",
       "       frozenset({'sausage'}),\n",
       "       frozenset({'other vegetables & whole milk'}), frozenset({'soda'}),\n",
       "       frozenset({'yogurt'})], dtype=object)"
      ]
     },
     "execution_count": 64,
     "metadata": {},
     "output_type": "execute_result"
    }
   ],
   "source": [
    "rules.consequents.unique()"
   ]
  },
  {
   "cell_type": "code",
   "execution_count": 65,
   "id": "0f630164",
   "metadata": {
    "execution": {
     "iopub.execute_input": "2023-01-08T04:07:46.720859Z",
     "iopub.status.busy": "2023-01-08T04:07:46.720394Z",
     "iopub.status.idle": "2023-01-08T04:07:46.906258Z",
     "shell.execute_reply": "2023-01-08T04:07:46.905367Z"
    },
    "papermill": {
     "duration": 0.23373,
     "end_time": "2023-01-08T04:07:46.908578",
     "exception": false,
     "start_time": "2023-01-08T04:07:46.674848",
     "status": "completed"
    },
    "tags": []
   },
   "outputs": [
    {
     "data": {
      "image/png": "[encoded data removed]",
      "text/plain": [
       "<Figure size 432x288 with 1 Axes>"
      ]
     },
     "metadata": {
      "needs_background": "light"
     },
     "output_type": "display_data"
    }
   ],
   "source": [
    "plt.scatter(rules['support'], rules['confidence'], alpha=0.5)\n",
    "plt.xlabel('support')\n",
    "plt.ylabel('confidence')\n",
    "plt.title('Support vs Confidence')\n",
    "plt.show()"
   ]
  },
  {
   "cell_type": "code",
   "execution_count": 66,
   "id": "8633d0b6",
   "metadata": {
    "execution": {
     "iopub.execute_input": "2023-01-08T04:07:46.976044Z",
     "iopub.status.busy": "2023-01-08T04:07:46.975612Z",
     "iopub.status.idle": "2023-01-08T04:07:47.176290Z",
     "shell.execute_reply": "2023-01-08T04:07:47.175212Z"
    },
    "papermill": {
     "duration": 0.236855,
     "end_time": "2023-01-08T04:07:47.178551",
     "exception": false,
     "start_time": "2023-01-08T04:07:46.941696",
     "status": "completed"
    },
    "tags": []
   },
   "outputs": [
    {
     "data": {
      "image/png": "[encoded data removed]",
      "text/plain": [
       "<Figure size 432x288 with 1 Axes>"
      ]
     },
     "metadata": {
      "needs_background": "light"
     },
     "output_type": "display_data"
    }
   ],
   "source": [
    "plt.scatter(rules['support'], rules['lift'], alpha=0.5)\n",
    "plt.xlabel('support')\n",
    "plt.ylabel('lift')\n",
    "plt.title('Support vs Lift')\n",
    "plt.show()"
   ]
  },
  {
   "cell_type": "code",
   "execution_count": 67,
   "id": "7a1c7606",
   "metadata": {
    "execution": {
     "iopub.execute_input": "2023-01-08T04:07:47.246301Z",
     "iopub.status.busy": "2023-01-08T04:07:47.245908Z",
     "iopub.status.idle": "2023-01-08T04:07:47.446032Z",
     "shell.execute_reply": "2023-01-08T04:07:47.444936Z"
    },
    "papermill": {
     "duration": 0.236617,
     "end_time": "2023-01-08T04:07:47.448314",
     "exception": false,
     "start_time": "2023-01-08T04:07:47.211697",
     "status": "completed"
    },
    "tags": []
   },
   "outputs": [
    {
     "data": {
      "text/plain": [
       "[<matplotlib.lines.Line2D at 0x7ff8c1aa7b90>,\n",
       " <matplotlib.lines.Line2D at 0x7ff8c1aa7b50>]"
      ]
     },
     "execution_count": 67,
     "metadata": {},
     "output_type": "execute_result"
    },
    {
     "data": {
      "image/png": "[encoded data removed]",
      "text/plain": [
       "<Figure size 432x288 with 1 Axes>"
      ]
     },
     "metadata": {
      "needs_background": "light"
     },
     "output_type": "display_data"
    }
   ],
   "source": [
    "fit = np.polyfit(rules['lift'], rules['confidence'], 1)\n",
    "fit_fn = np.poly1d(fit)\n",
    "plt.plot(rules['lift'], rules['confidence'], 'yo', rules['lift'],fit_fn(rules['lift']))"
   ]
  },
  {
   "cell_type": "markdown",
   "id": "14797a51",
   "metadata": {
    "papermill": {
     "duration": 0.034316,
     "end_time": "2023-01-08T04:07:47.516733",
     "exception": false,
     "start_time": "2023-01-08T04:07:47.482417",
     "status": "completed"
    },
    "tags": []
   },
   "source": [
    "### Multi Metric Filtering"
   ]
  },
  {
   "cell_type": "markdown",
   "id": "fa7e2200",
   "metadata": {
    "papermill": {
     "duration": 0.03368,
     "end_time": "2023-01-08T04:07:47.585055",
     "exception": false,
     "start_time": "2023-01-08T04:07:47.551375",
     "status": "completed"
    },
    "tags": []
   },
   "source": [
    "#### Targeting consequent == whole milk"
   ]
  },
  {
   "cell_type": "code",
   "execution_count": 68,
   "id": "1a4cda15",
   "metadata": {
    "execution": {
     "iopub.execute_input": "2023-01-08T04:07:47.655703Z",
     "iopub.status.busy": "2023-01-08T04:07:47.655241Z",
     "iopub.status.idle": "2023-01-08T04:07:47.661208Z",
     "shell.execute_reply": "2023-01-08T04:07:47.660442Z"
    },
    "papermill": {
     "duration": 0.043366,
     "end_time": "2023-01-08T04:07:47.663094",
     "exception": false,
     "start_time": "2023-01-08T04:07:47.619728",
     "status": "completed"
    },
    "tags": []
   },
   "outputs": [],
   "source": [
    "targeted_rules = rules[rules['consequents'] == {'whole milk'}].copy()"
   ]
  },
  {
   "cell_type": "code",
   "execution_count": 69,
   "id": "0139ff9c",
   "metadata": {
    "execution": {
     "iopub.execute_input": "2023-01-08T04:07:47.734390Z",
     "iopub.status.busy": "2023-01-08T04:07:47.733676Z",
     "iopub.status.idle": "2023-01-08T04:07:47.750571Z",
     "shell.execute_reply": "2023-01-08T04:07:47.749812Z"
    },
    "papermill": {
     "duration": 0.054566,
     "end_time": "2023-01-08T04:07:47.752628",
     "exception": false,
     "start_time": "2023-01-08T04:07:47.698062",
     "status": "completed"
    },
    "tags": []
   },
   "outputs": [
    {
     "data": {
      "text/html": [
       "<div>\n",
       "<style scoped>\n",
       "    .dataframe tbody tr th:only-of-type {\n",
       "        vertical-align: middle;\n",
       "    }\n",
       "\n",
       "    .dataframe tbody tr th {\n",
       "        vertical-align: top;\n",
       "    }\n",
       "\n",
       "    .dataframe thead th {\n",
       "        text-align: right;\n",
       "    }\n",
       "</style>\n",
       "<table border=\"1\" class=\"dataframe\">\n",
       "  <thead>\n",
       "    <tr style=\"text-align: right;\">\n",
       "      <th></th>\n",
       "      <th>antecedents</th>\n",
       "      <th>consequents</th>\n",
       "      <th>antecedent support</th>\n",
       "      <th>consequent support</th>\n",
       "      <th>support</th>\n",
       "      <th>confidence</th>\n",
       "      <th>lift</th>\n",
       "      <th>leverage</th>\n",
       "      <th>conviction</th>\n",
       "    </tr>\n",
       "  </thead>\n",
       "  <tbody>\n",
       "    <tr>\n",
       "      <th>0</th>\n",
       "      <td>(bottled beer)</td>\n",
       "      <td>(whole milk)</td>\n",
       "      <td>0.054860</td>\n",
       "      <td>0.181445</td>\n",
       "      <td>0.010472</td>\n",
       "      <td>0.190887</td>\n",
       "      <td>1.052039</td>\n",
       "      <td>0.000518</td>\n",
       "      <td>1.011670</td>\n",
       "    </tr>\n",
       "    <tr>\n",
       "      <th>3</th>\n",
       "      <td>(citrus fruit)</td>\n",
       "      <td>(whole milk)</td>\n",
       "      <td>0.060911</td>\n",
       "      <td>0.181445</td>\n",
       "      <td>0.011261</td>\n",
       "      <td>0.184881</td>\n",
       "      <td>1.018938</td>\n",
       "      <td>0.000209</td>\n",
       "      <td>1.004216</td>\n",
       "    </tr>\n",
       "    <tr>\n",
       "      <th>10</th>\n",
       "      <td>(sausage)</td>\n",
       "      <td>(whole milk)</td>\n",
       "      <td>0.074225</td>\n",
       "      <td>0.181445</td>\n",
       "      <td>0.014998</td>\n",
       "      <td>0.202056</td>\n",
       "      <td>1.113593</td>\n",
       "      <td>0.001530</td>\n",
       "      <td>1.025830</td>\n",
       "    </tr>\n",
       "    <tr>\n",
       "      <th>14</th>\n",
       "      <td>(yogurt)</td>\n",
       "      <td>(whole milk)</td>\n",
       "      <td>0.100931</td>\n",
       "      <td>0.181445</td>\n",
       "      <td>0.018392</td>\n",
       "      <td>0.182221</td>\n",
       "      <td>1.004277</td>\n",
       "      <td>0.000078</td>\n",
       "      <td>1.000949</td>\n",
       "    </tr>\n",
       "    <tr>\n",
       "      <th>16</th>\n",
       "      <td>(other vegetables &amp; whole milk)</td>\n",
       "      <td>(whole milk)</td>\n",
       "      <td>0.021944</td>\n",
       "      <td>0.181445</td>\n",
       "      <td>0.021944</td>\n",
       "      <td>1.000000</td>\n",
       "      <td>5.511311</td>\n",
       "      <td>0.017962</td>\n",
       "      <td>inf</td>\n",
       "    </tr>\n",
       "  </tbody>\n",
       "</table>\n",
       "</div>"
      ],
      "text/plain": [
       "                        antecedents   consequents  antecedent support  \\\n",
       "0                    (bottled beer)  (whole milk)            0.054860   \n",
       "3                    (citrus fruit)  (whole milk)            0.060911   \n",
       "10                        (sausage)  (whole milk)            0.074225   \n",
       "14                         (yogurt)  (whole milk)            0.100931   \n",
       "16  (other vegetables & whole milk)  (whole milk)            0.021944   \n",
       "\n",
       "    consequent support   support  confidence      lift  leverage  conviction  \n",
       "0             0.181445  0.010472    0.190887  1.052039  0.000518    1.011670  \n",
       "3             0.181445  0.011261    0.184881  1.018938  0.000209    1.004216  \n",
       "10            0.181445  0.014998    0.202056  1.113593  0.001530    1.025830  \n",
       "14            0.181445  0.018392    0.182221  1.004277  0.000078    1.000949  \n",
       "16            0.181445  0.021944    1.000000  5.511311  0.017962         inf  "
      ]
     },
     "execution_count": 69,
     "metadata": {},
     "output_type": "execute_result"
    }
   ],
   "source": [
    "targeted_rules"
   ]
  },
  {
   "cell_type": "code",
   "execution_count": 70,
   "id": "56969348",
   "metadata": {
    "execution": {
     "iopub.execute_input": "2023-01-08T04:07:47.823974Z",
     "iopub.status.busy": "2023-01-08T04:07:47.823562Z",
     "iopub.status.idle": "2023-01-08T04:07:47.830835Z",
     "shell.execute_reply": "2023-01-08T04:07:47.829781Z"
    },
    "papermill": {
     "duration": 0.045422,
     "end_time": "2023-01-08T04:07:47.832949",
     "exception": false,
     "start_time": "2023-01-08T04:07:47.787527",
     "status": "completed"
    },
    "tags": []
   },
   "outputs": [],
   "source": [
    "filtered_rules = targeted_rules[(targeted_rules['antecedent support'] > 0.01) &\n",
    "(targeted_rules['support'] > 0.009) &\n",
    "(targeted_rules['confidence'] > 0.85) &\n",
    "(targeted_rules['lift'] > 1.00)]"
   ]
  },
  {
   "cell_type": "code",
   "execution_count": 71,
   "id": "fe324739",
   "metadata": {
    "execution": {
     "iopub.execute_input": "2023-01-08T04:07:47.903841Z",
     "iopub.status.busy": "2023-01-08T04:07:47.903432Z",
     "iopub.status.idle": "2023-01-08T04:07:47.909338Z",
     "shell.execute_reply": "2023-01-08T04:07:47.908558Z"
    },
    "papermill": {
     "duration": 0.044929,
     "end_time": "2023-01-08T04:07:47.912219",
     "exception": false,
     "start_time": "2023-01-08T04:07:47.867290",
     "status": "completed"
    },
    "tags": []
   },
   "outputs": [
    {
     "name": "stdout",
     "output_type": "stream",
     "text": [
      "16    (other vegetables & whole milk)\n",
      "Name: antecedents, dtype: object\n"
     ]
    }
   ],
   "source": [
    "print(filtered_rules['antecedents'])"
   ]
  },
  {
   "cell_type": "markdown",
   "id": "857532b2",
   "metadata": {
    "papermill": {
     "duration": 0.034531,
     "end_time": "2023-01-08T04:07:47.981626",
     "exception": false,
     "start_time": "2023-01-08T04:07:47.947095",
     "status": "completed"
    },
    "tags": []
   },
   "source": [
    "### Visualising the rules"
   ]
  },
  {
   "cell_type": "code",
   "execution_count": 72,
   "id": "a6824d56",
   "metadata": {
    "execution": {
     "iopub.execute_input": "2023-01-08T04:07:48.052645Z",
     "iopub.status.busy": "2023-01-08T04:07:48.051913Z",
     "iopub.status.idle": "2023-01-08T04:07:48.306303Z",
     "shell.execute_reply": "2023-01-08T04:07:48.305466Z"
    },
    "papermill": {
     "duration": 0.292508,
     "end_time": "2023-01-08T04:07:48.308623",
     "exception": false,
     "start_time": "2023-01-08T04:07:48.016115",
     "status": "completed"
    },
    "tags": []
   },
   "outputs": [],
   "source": [
    "frequent_itemsets = apriori(onehot, min_support=0.01,use_colnames=True, max_len=2)"
   ]
  },
  {
   "cell_type": "code",
   "execution_count": 73,
   "id": "05985a1b",
   "metadata": {
    "execution": {
     "iopub.execute_input": "2023-01-08T04:07:48.379884Z",
     "iopub.status.busy": "2023-01-08T04:07:48.379012Z",
     "iopub.status.idle": "2023-01-08T04:07:48.385289Z",
     "shell.execute_reply": "2023-01-08T04:07:48.384553Z"
    },
    "papermill": {
     "duration": 0.04415,
     "end_time": "2023-01-08T04:07:48.387261",
     "exception": false,
     "start_time": "2023-01-08T04:07:48.343111",
     "status": "completed"
    },
    "tags": []
   },
   "outputs": [
    {
     "data": {
      "text/plain": [
       "91"
      ]
     },
     "execution_count": 73,
     "metadata": {},
     "output_type": "execute_result"
    }
   ],
   "source": [
    "len(frequent_itemsets )"
   ]
  },
  {
   "cell_type": "code",
   "execution_count": 74,
   "id": "4dbdd327",
   "metadata": {
    "execution": {
     "iopub.execute_input": "2023-01-08T04:07:48.459366Z",
     "iopub.status.busy": "2023-01-08T04:07:48.458686Z",
     "iopub.status.idle": "2023-01-08T04:07:48.466371Z",
     "shell.execute_reply": "2023-01-08T04:07:48.465598Z"
    },
    "papermill": {
     "duration": 0.046119,
     "end_time": "2023-01-08T04:07:48.468299",
     "exception": false,
     "start_time": "2023-01-08T04:07:48.422180",
     "status": "completed"
    },
    "tags": []
   },
   "outputs": [],
   "source": [
    "rules = association_rules(frequent_itemsets,metric = \"support\",min_threshold = 0.0)"
   ]
  },
  {
   "cell_type": "code",
   "execution_count": 75,
   "id": "1d442aa7",
   "metadata": {
    "execution": {
     "iopub.execute_input": "2023-01-08T04:07:48.540572Z",
     "iopub.status.busy": "2023-01-08T04:07:48.540167Z",
     "iopub.status.idle": "2023-01-08T04:07:48.545840Z",
     "shell.execute_reply": "2023-01-08T04:07:48.545105Z"
    },
    "papermill": {
     "duration": 0.04379,
     "end_time": "2023-01-08T04:07:48.547803",
     "exception": false,
     "start_time": "2023-01-08T04:07:48.504013",
     "status": "completed"
    },
    "tags": []
   },
   "outputs": [
    {
     "data": {
      "text/plain": [
       "42"
      ]
     },
     "execution_count": 75,
     "metadata": {},
     "output_type": "execute_result"
    }
   ],
   "source": [
    "len(rules)"
   ]
  },
  {
   "cell_type": "code",
   "execution_count": 76,
   "id": "b2d28461",
   "metadata": {
    "execution": {
     "iopub.execute_input": "2023-01-08T04:07:48.619504Z",
     "iopub.status.busy": "2023-01-08T04:07:48.619085Z",
     "iopub.status.idle": "2023-01-08T04:07:48.626112Z",
     "shell.execute_reply": "2023-01-08T04:07:48.624759Z"
    },
    "papermill": {
     "duration": 0.046004,
     "end_time": "2023-01-08T04:07:48.628336",
     "exception": false,
     "start_time": "2023-01-08T04:07:48.582332",
     "status": "completed"
    },
    "tags": []
   },
   "outputs": [],
   "source": [
    "# Convert antecedents and consequents into strings\n",
    "rules['antecedents'] = rules['antecedents'].apply(lambda a: ','.join(list(a)))\n",
    "rules['consequents'] = rules['consequents'].apply(lambda a: ','.join(list(a)))"
   ]
  },
  {
   "cell_type": "code",
   "execution_count": 77,
   "id": "bff6f97e",
   "metadata": {
    "execution": {
     "iopub.execute_input": "2023-01-08T04:07:48.699177Z",
     "iopub.status.busy": "2023-01-08T04:07:48.698786Z",
     "iopub.status.idle": "2023-01-08T04:07:48.707848Z",
     "shell.execute_reply": "2023-01-08T04:07:48.706471Z"
    },
    "papermill": {
     "duration": 0.047071,
     "end_time": "2023-01-08T04:07:48.709933",
     "exception": false,
     "start_time": "2023-01-08T04:07:48.662862",
     "status": "completed"
    },
    "tags": []
   },
   "outputs": [
    {
     "name": "stdout",
     "output_type": "stream",
     "text": [
      "     antecedents    consequents\n",
      "0   bottled beer     whole milk\n",
      "1     whole milk   bottled beer\n",
      "2  bottled water     whole milk\n",
      "3     whole milk  bottled water\n",
      "4     whole milk   citrus fruit\n"
     ]
    }
   ],
   "source": [
    "print(rules[['antecedents','consequents']].head())"
   ]
  },
  {
   "cell_type": "code",
   "execution_count": 78,
   "id": "cee5ba64",
   "metadata": {
    "execution": {
     "iopub.execute_input": "2023-01-08T04:07:48.782852Z",
     "iopub.status.busy": "2023-01-08T04:07:48.781699Z",
     "iopub.status.idle": "2023-01-08T04:07:48.790818Z",
     "shell.execute_reply": "2023-01-08T04:07:48.790052Z"
    },
    "papermill": {
     "duration": 0.047725,
     "end_time": "2023-01-08T04:07:48.792883",
     "exception": false,
     "start_time": "2023-01-08T04:07:48.745158",
     "status": "completed"
    },
    "tags": []
   },
   "outputs": [],
   "source": [
    "support_table = rules.pivot(index='consequents', columns='antecedents',values='support')"
   ]
  },
  {
   "cell_type": "code",
   "execution_count": 79,
   "id": "404ba6e2",
   "metadata": {
    "execution": {
     "iopub.execute_input": "2023-01-08T04:07:48.865295Z",
     "iopub.status.busy": "2023-01-08T04:07:48.864225Z",
     "iopub.status.idle": "2023-01-08T04:07:48.883288Z",
     "shell.execute_reply": "2023-01-08T04:07:48.882223Z"
    },
    "papermill": {
     "duration": 0.057647,
     "end_time": "2023-01-08T04:07:48.885737",
     "exception": false,
     "start_time": "2023-01-08T04:07:48.828090",
     "status": "completed"
    },
    "tags": []
   },
   "outputs": [
    {
     "data": {
      "text/html": [
       "<div>\n",
       "<style scoped>\n",
       "    .dataframe tbody tr th:only-of-type {\n",
       "        vertical-align: middle;\n",
       "    }\n",
       "\n",
       "    .dataframe tbody tr th {\n",
       "        vertical-align: top;\n",
       "    }\n",
       "\n",
       "    .dataframe thead th {\n",
       "        text-align: right;\n",
       "    }\n",
       "</style>\n",
       "<table border=\"1\" class=\"dataframe\">\n",
       "  <thead>\n",
       "    <tr style=\"text-align: right;\">\n",
       "      <th>antecedents</th>\n",
       "      <th>bottled beer</th>\n",
       "      <th>bottled water</th>\n",
       "      <th>citrus fruit</th>\n",
       "      <th>other vegetables</th>\n",
       "      <th>other vegetables &amp; whole milk</th>\n",
       "      <th>pastry</th>\n",
       "      <th>rolls/buns</th>\n",
       "      <th>root vegetables</th>\n",
       "      <th>sausage</th>\n",
       "      <th>soda</th>\n",
       "      <th>tropical fruit</th>\n",
       "      <th>whole milk</th>\n",
       "      <th>yogurt</th>\n",
       "    </tr>\n",
       "    <tr>\n",
       "      <th>consequents</th>\n",
       "      <th></th>\n",
       "      <th></th>\n",
       "      <th></th>\n",
       "      <th></th>\n",
       "      <th></th>\n",
       "      <th></th>\n",
       "      <th></th>\n",
       "      <th></th>\n",
       "      <th></th>\n",
       "      <th></th>\n",
       "      <th></th>\n",
       "      <th></th>\n",
       "      <th></th>\n",
       "    </tr>\n",
       "  </thead>\n",
       "  <tbody>\n",
       "    <tr>\n",
       "      <th>bottled beer</th>\n",
       "      <td>NaN</td>\n",
       "      <td>NaN</td>\n",
       "      <td>NaN</td>\n",
       "      <td>NaN</td>\n",
       "      <td>NaN</td>\n",
       "      <td>NaN</td>\n",
       "      <td>NaN</td>\n",
       "      <td>NaN</td>\n",
       "      <td>NaN</td>\n",
       "      <td>NaN</td>\n",
       "      <td>NaN</td>\n",
       "      <td>0.010472</td>\n",
       "      <td>NaN</td>\n",
       "    </tr>\n",
       "    <tr>\n",
       "      <th>bottled water</th>\n",
       "      <td>NaN</td>\n",
       "      <td>NaN</td>\n",
       "      <td>NaN</td>\n",
       "      <td>NaN</td>\n",
       "      <td>NaN</td>\n",
       "      <td>NaN</td>\n",
       "      <td>NaN</td>\n",
       "      <td>NaN</td>\n",
       "      <td>NaN</td>\n",
       "      <td>NaN</td>\n",
       "      <td>NaN</td>\n",
       "      <td>0.010209</td>\n",
       "      <td>NaN</td>\n",
       "    </tr>\n",
       "    <tr>\n",
       "      <th>citrus fruit</th>\n",
       "      <td>NaN</td>\n",
       "      <td>NaN</td>\n",
       "      <td>NaN</td>\n",
       "      <td>NaN</td>\n",
       "      <td>NaN</td>\n",
       "      <td>NaN</td>\n",
       "      <td>NaN</td>\n",
       "      <td>NaN</td>\n",
       "      <td>NaN</td>\n",
       "      <td>NaN</td>\n",
       "      <td>NaN</td>\n",
       "      <td>0.011261</td>\n",
       "      <td>NaN</td>\n",
       "    </tr>\n",
       "    <tr>\n",
       "      <th>other vegetables</th>\n",
       "      <td>NaN</td>\n",
       "      <td>NaN</td>\n",
       "      <td>NaN</td>\n",
       "      <td>NaN</td>\n",
       "      <td>0.021944</td>\n",
       "      <td>NaN</td>\n",
       "      <td>0.015576</td>\n",
       "      <td>NaN</td>\n",
       "      <td>0.01084</td>\n",
       "      <td>0.013945</td>\n",
       "      <td>NaN</td>\n",
       "      <td>0.021944</td>\n",
       "      <td>0.012288</td>\n",
       "    </tr>\n",
       "    <tr>\n",
       "      <th>other vegetables &amp; whole milk</th>\n",
       "      <td>NaN</td>\n",
       "      <td>NaN</td>\n",
       "      <td>NaN</td>\n",
       "      <td>0.021944</td>\n",
       "      <td>NaN</td>\n",
       "      <td>NaN</td>\n",
       "      <td>NaN</td>\n",
       "      <td>NaN</td>\n",
       "      <td>NaN</td>\n",
       "      <td>NaN</td>\n",
       "      <td>NaN</td>\n",
       "      <td>0.021944</td>\n",
       "      <td>NaN</td>\n",
       "    </tr>\n",
       "  </tbody>\n",
       "</table>\n",
       "</div>"
      ],
      "text/plain": [
       "antecedents                    bottled beer  bottled water  citrus fruit  \\\n",
       "consequents                                                                \n",
       "bottled beer                            NaN            NaN           NaN   \n",
       "bottled water                           NaN            NaN           NaN   \n",
       "citrus fruit                            NaN            NaN           NaN   \n",
       "other vegetables                        NaN            NaN           NaN   \n",
       "other vegetables & whole milk           NaN            NaN           NaN   \n",
       "\n",
       "antecedents                    other vegetables  \\\n",
       "consequents                                       \n",
       "bottled beer                                NaN   \n",
       "bottled water                               NaN   \n",
       "citrus fruit                                NaN   \n",
       "other vegetables                            NaN   \n",
       "other vegetables & whole milk          0.021944   \n",
       "\n",
       "antecedents                    other vegetables & whole milk  pastry  \\\n",
       "consequents                                                            \n",
       "bottled beer                                             NaN     NaN   \n",
       "bottled water                                            NaN     NaN   \n",
       "citrus fruit                                             NaN     NaN   \n",
       "other vegetables                                    0.021944     NaN   \n",
       "other vegetables & whole milk                            NaN     NaN   \n",
       "\n",
       "antecedents                    rolls/buns  root vegetables  sausage      soda  \\\n",
       "consequents                                                                     \n",
       "bottled beer                          NaN              NaN      NaN       NaN   \n",
       "bottled water                         NaN              NaN      NaN       NaN   \n",
       "citrus fruit                          NaN              NaN      NaN       NaN   \n",
       "other vegetables                 0.015576              NaN  0.01084  0.013945   \n",
       "other vegetables & whole milk         NaN              NaN      NaN       NaN   \n",
       "\n",
       "antecedents                    tropical fruit  whole milk    yogurt  \n",
       "consequents                                                          \n",
       "bottled beer                              NaN    0.010472       NaN  \n",
       "bottled water                             NaN    0.010209       NaN  \n",
       "citrus fruit                              NaN    0.011261       NaN  \n",
       "other vegetables                          NaN    0.021944  0.012288  \n",
       "other vegetables & whole milk             NaN    0.021944       NaN  "
      ]
     },
     "execution_count": 79,
     "metadata": {},
     "output_type": "execute_result"
    }
   ],
   "source": [
    "support_table.head()"
   ]
  },
  {
   "cell_type": "code",
   "execution_count": 80,
   "id": "f4450092",
   "metadata": {
    "execution": {
     "iopub.execute_input": "2023-01-08T04:07:48.959599Z",
     "iopub.status.busy": "2023-01-08T04:07:48.959193Z",
     "iopub.status.idle": "2023-01-08T04:07:48.963606Z",
     "shell.execute_reply": "2023-01-08T04:07:48.962530Z"
    },
    "papermill": {
     "duration": 0.04368,
     "end_time": "2023-01-08T04:07:48.965736",
     "exception": false,
     "start_time": "2023-01-08T04:07:48.922056",
     "status": "completed"
    },
    "tags": []
   },
   "outputs": [],
   "source": [
    "import seaborn as sns"
   ]
  },
  {
   "cell_type": "code",
   "execution_count": 81,
   "id": "01358f6b",
   "metadata": {
    "execution": {
     "iopub.execute_input": "2023-01-08T04:07:49.038233Z",
     "iopub.status.busy": "2023-01-08T04:07:49.037846Z",
     "iopub.status.idle": "2023-01-08T04:07:49.751996Z",
     "shell.execute_reply": "2023-01-08T04:07:49.750917Z"
    },
    "papermill": {
     "duration": 0.753014,
     "end_time": "2023-01-08T04:07:49.754221",
     "exception": false,
     "start_time": "2023-01-08T04:07:49.001207",
     "status": "completed"
    },
    "tags": []
   },
   "outputs": [
    {
     "data": {
      "image/png": "[encoded data removed]",
      "text/plain": [
       "<Figure size 720x576 with 2 Axes>"
      ]
     },
     "metadata": {
      "needs_background": "light"
     },
     "output_type": "display_data"
    }
   ],
   "source": [
    "plt.figure(figsize=(10,8))\n",
    "sns.heatmap(support_table, cmap= \"tab20\", annot=True, linewidths= 2, linecolor= 'black')\n",
    "plt.show()"
   ]
  },
  {
   "cell_type": "markdown",
   "id": "da81dad3",
   "metadata": {
    "papermill": {
     "duration": 0.036048,
     "end_time": "2023-01-08T04:07:49.827813",
     "exception": false,
     "start_time": "2023-01-08T04:07:49.791765",
     "status": "completed"
    },
    "tags": []
   },
   "source": [
    "#### From heat map above, we can see following association:\n",
    "1. other vegetable <-- whole milk\n",
    "2. rolls/buns <-- whole milk \n"
   ]
  },
  {
   "cell_type": "code",
   "execution_count": 82,
   "id": "eac780fd",
   "metadata": {
    "execution": {
     "iopub.execute_input": "2023-01-08T04:07:49.904994Z",
     "iopub.status.busy": "2023-01-08T04:07:49.904153Z",
     "iopub.status.idle": "2023-01-08T04:07:50.160232Z",
     "shell.execute_reply": "2023-01-08T04:07:50.159397Z"
    },
    "papermill": {
     "duration": 0.29679,
     "end_time": "2023-01-08T04:07:50.162343",
     "exception": false,
     "start_time": "2023-01-08T04:07:49.865553",
     "status": "completed"
    },
    "tags": []
   },
   "outputs": [
    {
     "data": {
      "text/plain": [
       "<AxesSubplot:xlabel='antecedent support', ylabel='consequent support'>"
      ]
     },
     "execution_count": 82,
     "metadata": {},
     "output_type": "execute_result"
    },
    {
     "data": {
      "image/png": "[encoded data removed]",
      "text/plain": [
       "<Figure size 432x288 with 1 Axes>"
      ]
     },
     "metadata": {
      "needs_background": "light"
     },
     "output_type": "display_data"
    }
   ],
   "source": [
    "sns.scatterplot(x=\"antecedent support\", y=\"consequent support\", data=rules)"
   ]
  },
  {
   "cell_type": "code",
   "execution_count": 83,
   "id": "d2443588",
   "metadata": {
    "execution": {
     "iopub.execute_input": "2023-01-08T04:07:50.238940Z",
     "iopub.status.busy": "2023-01-08T04:07:50.238047Z",
     "iopub.status.idle": "2023-01-08T04:07:50.624871Z",
     "shell.execute_reply": "2023-01-08T04:07:50.623707Z"
    },
    "papermill": {
     "duration": 0.428105,
     "end_time": "2023-01-08T04:07:50.627799",
     "exception": false,
     "start_time": "2023-01-08T04:07:50.199694",
     "status": "completed"
    },
    "tags": []
   },
   "outputs": [
    {
     "data": {
      "text/plain": [
       "<AxesSubplot:xlabel='antecedent support', ylabel='consequent support'>"
      ]
     },
     "execution_count": 83,
     "metadata": {},
     "output_type": "execute_result"
    },
    {
     "data": {
      "image/png": "[encoded data removed]",
      "text/plain": [
       "<Figure size 432x288 with 1 Axes>"
      ]
     },
     "metadata": {
      "needs_background": "light"
     },
     "output_type": "display_data"
    }
   ],
   "source": [
    "sns.scatterplot(x=\"antecedent support\",y=\"consequent support\",size=\"lift\",data=rules)"
   ]
  },
  {
   "cell_type": "markdown",
   "id": "b0f51201",
   "metadata": {
    "papermill": {
     "duration": 0.038827,
     "end_time": "2023-01-08T04:07:50.705182",
     "exception": false,
     "start_time": "2023-01-08T04:07:50.666355",
     "status": "completed"
    },
    "tags": []
   },
   "source": [
    "#### scatter plot above, we can observe that no support exceeds value 0.18. "
   ]
  },
  {
   "cell_type": "markdown",
   "id": "a5b469ed",
   "metadata": {
    "papermill": {
     "duration": 0.037681,
     "end_time": "2023-01-08T04:07:50.781439",
     "exception": false,
     "start_time": "2023-01-08T04:07:50.743758",
     "status": "completed"
    },
    "tags": []
   },
   "source": [
    "### Parallel coordinate plots to observe Rules"
   ]
  },
  {
   "cell_type": "code",
   "execution_count": 84,
   "id": "34155c60",
   "metadata": {
    "execution": {
     "iopub.execute_input": "2023-01-08T04:07:50.859791Z",
     "iopub.status.busy": "2023-01-08T04:07:50.859423Z",
     "iopub.status.idle": "2023-01-08T04:07:51.114552Z",
     "shell.execute_reply": "2023-01-08T04:07:51.113611Z"
    },
    "papermill": {
     "duration": 0.296407,
     "end_time": "2023-01-08T04:07:51.117210",
     "exception": false,
     "start_time": "2023-01-08T04:07:50.820803",
     "status": "completed"
    },
    "tags": []
   },
   "outputs": [],
   "source": [
    "frequent_itemsets = apriori(onehot, min_support=0.01,use_colnames=True, max_len=2)"
   ]
  },
  {
   "cell_type": "code",
   "execution_count": 85,
   "id": "8d45deb2",
   "metadata": {
    "execution": {
     "iopub.execute_input": "2023-01-08T04:07:51.194555Z",
     "iopub.status.busy": "2023-01-08T04:07:51.193855Z",
     "iopub.status.idle": "2023-01-08T04:07:51.204102Z",
     "shell.execute_reply": "2023-01-08T04:07:51.203010Z"
    },
    "papermill": {
     "duration": 0.051283,
     "end_time": "2023-01-08T04:07:51.206474",
     "exception": false,
     "start_time": "2023-01-08T04:07:51.155191",
     "status": "completed"
    },
    "tags": []
   },
   "outputs": [],
   "source": [
    "rules = association_rules(frequent_itemsets,metric = 'lift', min_threshold = 1.00)"
   ]
  },
  {
   "cell_type": "code",
   "execution_count": 86,
   "id": "72add762",
   "metadata": {
    "execution": {
     "iopub.execute_input": "2023-01-08T04:07:51.282489Z",
     "iopub.status.busy": "2023-01-08T04:07:51.282034Z",
     "iopub.status.idle": "2023-01-08T04:07:51.290163Z",
     "shell.execute_reply": "2023-01-08T04:07:51.289353Z"
    },
    "papermill": {
     "duration": 0.048418,
     "end_time": "2023-01-08T04:07:51.292145",
     "exception": false,
     "start_time": "2023-01-08T04:07:51.243727",
     "status": "completed"
    },
    "tags": []
   },
   "outputs": [],
   "source": [
    "rules['antecedent'] = rules['antecedents'].apply(lambda antecedent: list(antecedent)[0])\n",
    "rules['consequent'] = rules['consequents'].apply(lambda consequent: list(consequent)[0])\n",
    "rules['rule'] = rules.index"
   ]
  },
  {
   "cell_type": "code",
   "execution_count": 87,
   "id": "788995ae",
   "metadata": {
    "execution": {
     "iopub.execute_input": "2023-01-08T04:07:51.368741Z",
     "iopub.status.busy": "2023-01-08T04:07:51.368016Z",
     "iopub.status.idle": "2023-01-08T04:07:51.376092Z",
     "shell.execute_reply": "2023-01-08T04:07:51.375344Z"
    },
    "papermill": {
     "duration": 0.050028,
     "end_time": "2023-01-08T04:07:51.379493",
     "exception": false,
     "start_time": "2023-01-08T04:07:51.329465",
     "status": "completed"
    },
    "tags": []
   },
   "outputs": [
    {
     "name": "stdout",
     "output_type": "stream",
     "text": [
      "     antecedent  consequent  rule\n",
      "0  bottled beer  whole milk     0\n"
     ]
    }
   ],
   "source": [
    "coords = rules[['antecedent','consequent','rule']]\n",
    "# Print example\n",
    "print(coords.head(1))"
   ]
  },
  {
   "cell_type": "code",
   "execution_count": 88,
   "id": "a4f8b470",
   "metadata": {
    "execution": {
     "iopub.execute_input": "2023-01-08T04:07:51.459208Z",
     "iopub.status.busy": "2023-01-08T04:07:51.458812Z",
     "iopub.status.idle": "2023-01-08T04:07:51.463153Z",
     "shell.execute_reply": "2023-01-08T04:07:51.461970Z"
    },
    "papermill": {
     "duration": 0.046823,
     "end_time": "2023-01-08T04:07:51.465362",
     "exception": false,
     "start_time": "2023-01-08T04:07:51.418539",
     "status": "completed"
    },
    "tags": []
   },
   "outputs": [],
   "source": [
    "from pandas.plotting import parallel_coordinates"
   ]
  },
  {
   "cell_type": "code",
   "execution_count": 89,
   "id": "0292ddbf",
   "metadata": {
    "execution": {
     "iopub.execute_input": "2023-01-08T04:07:51.544099Z",
     "iopub.status.busy": "2023-01-08T04:07:51.543028Z",
     "iopub.status.idle": "2023-01-08T04:07:51.952189Z",
     "shell.execute_reply": "2023-01-08T04:07:51.951379Z"
    },
    "papermill": {
     "duration": 0.450752,
     "end_time": "2023-01-08T04:07:51.954818",
     "exception": false,
     "start_time": "2023-01-08T04:07:51.504066",
     "status": "completed"
    },
    "tags": []
   },
   "outputs": [
    {
     "data": {
      "image/png": "[encoded data removed]",
      "text/plain": [
       "<Figure size 1500x900 with 1 Axes>"
      ]
     },
     "metadata": {
      "needs_background": "light"
     },
     "output_type": "display_data"
    }
   ],
   "source": [
    "plt.figure(figsize= (10,6), dpi= 150)\n",
    "ax= parallel_coordinates(coords, 'rule', colormap = 'ocean')\n",
    "leg = plt.legend()\n",
    " \n",
    "ax.get_legend().remove()\n",
    "plt.show()"
   ]
  },
  {
   "cell_type": "markdown",
   "id": "8cd97eec",
   "metadata": {
    "papermill": {
     "duration": 0.048592,
     "end_time": "2023-01-08T04:07:52.047127",
     "exception": false,
     "start_time": "2023-01-08T04:07:51.998535",
     "status": "completed"
    },
    "tags": []
   },
   "source": [
    "#### From the plot above, we can different associations of antencendent and consequent in which ligher shaded lines shows stronger association such as yogurt <- whole milk "
   ]
  },
  {
   "cell_type": "code",
   "execution_count": 90,
   "id": "27038204",
   "metadata": {
    "execution": {
     "iopub.execute_input": "2023-01-08T04:07:52.131998Z",
     "iopub.status.busy": "2023-01-08T04:07:52.131341Z",
     "iopub.status.idle": "2023-01-08T04:07:52.139520Z",
     "shell.execute_reply": "2023-01-08T04:07:52.138739Z"
    },
    "papermill": {
     "duration": 0.053055,
     "end_time": "2023-01-08T04:07:52.141869",
     "exception": false,
     "start_time": "2023-01-08T04:07:52.088814",
     "status": "completed"
    },
    "tags": []
   },
   "outputs": [],
   "source": [
    "def zhangs_rule(rules):\n",
    "    rule_support = rules['support'].copy()\n",
    "    rule_ante = rules['antecedent support'].copy()\n",
    "    rule_conseq = rules['consequent support'].copy()\n",
    "    num = rule_support - (rule_ante * rule_conseq)\n",
    "    denom = np.max((rule_support * (1 - rule_ante).values, \n",
    "                          rule_ante * (rule_conseq - rule_support).values), axis = 0)\n",
    "    return num / denom\n",
    "\n",
    "rules_zhangs_list = zhangs_rule(rules)\n",
    "rules = rules.assign(zhang = rules_zhangs_list)\n"
   ]
  },
  {
   "cell_type": "code",
   "execution_count": 91,
   "id": "cf646555",
   "metadata": {
    "execution": {
     "iopub.execute_input": "2023-01-08T04:07:52.226287Z",
     "iopub.status.busy": "2023-01-08T04:07:52.225881Z",
     "iopub.status.idle": "2023-01-08T04:07:52.247146Z",
     "shell.execute_reply": "2023-01-08T04:07:52.246077Z"
    },
    "papermill": {
     "duration": 0.066132,
     "end_time": "2023-01-08T04:07:52.249293",
     "exception": false,
     "start_time": "2023-01-08T04:07:52.183161",
     "status": "completed"
    },
    "tags": []
   },
   "outputs": [
    {
     "data": {
      "text/html": [
       "<div>\n",
       "<style scoped>\n",
       "    .dataframe tbody tr th:only-of-type {\n",
       "        vertical-align: middle;\n",
       "    }\n",
       "\n",
       "    .dataframe tbody tr th {\n",
       "        vertical-align: top;\n",
       "    }\n",
       "\n",
       "    .dataframe thead th {\n",
       "        text-align: right;\n",
       "    }\n",
       "</style>\n",
       "<table border=\"1\" class=\"dataframe\">\n",
       "  <thead>\n",
       "    <tr style=\"text-align: right;\">\n",
       "      <th></th>\n",
       "      <th>antecedents</th>\n",
       "      <th>consequents</th>\n",
       "      <th>antecedent support</th>\n",
       "      <th>consequent support</th>\n",
       "      <th>support</th>\n",
       "      <th>confidence</th>\n",
       "      <th>lift</th>\n",
       "      <th>leverage</th>\n",
       "      <th>conviction</th>\n",
       "      <th>antecedent</th>\n",
       "      <th>consequent</th>\n",
       "      <th>rule</th>\n",
       "      <th>zhang</th>\n",
       "    </tr>\n",
       "  </thead>\n",
       "  <tbody>\n",
       "    <tr>\n",
       "      <th>0</th>\n",
       "      <td>(bottled beer)</td>\n",
       "      <td>(whole milk)</td>\n",
       "      <td>0.054860</td>\n",
       "      <td>0.181445</td>\n",
       "      <td>0.010472</td>\n",
       "      <td>0.190887</td>\n",
       "      <td>1.052039</td>\n",
       "      <td>0.000518</td>\n",
       "      <td>1.011670</td>\n",
       "      <td>bottled beer</td>\n",
       "      <td>whole milk</td>\n",
       "      <td>0</td>\n",
       "      <td>0.052336</td>\n",
       "    </tr>\n",
       "    <tr>\n",
       "      <th>1</th>\n",
       "      <td>(whole milk)</td>\n",
       "      <td>(bottled beer)</td>\n",
       "      <td>0.181445</td>\n",
       "      <td>0.054860</td>\n",
       "      <td>0.010472</td>\n",
       "      <td>0.057715</td>\n",
       "      <td>1.052039</td>\n",
       "      <td>0.000518</td>\n",
       "      <td>1.003030</td>\n",
       "      <td>whole milk</td>\n",
       "      <td>bottled beer</td>\n",
       "      <td>1</td>\n",
       "      <td>0.060430</td>\n",
       "    </tr>\n",
       "    <tr>\n",
       "      <th>2</th>\n",
       "      <td>(whole milk)</td>\n",
       "      <td>(citrus fruit)</td>\n",
       "      <td>0.181445</td>\n",
       "      <td>0.060911</td>\n",
       "      <td>0.011261</td>\n",
       "      <td>0.062065</td>\n",
       "      <td>1.018938</td>\n",
       "      <td>0.000209</td>\n",
       "      <td>1.001230</td>\n",
       "      <td>whole milk</td>\n",
       "      <td>citrus fruit</td>\n",
       "      <td>2</td>\n",
       "      <td>0.022706</td>\n",
       "    </tr>\n",
       "    <tr>\n",
       "      <th>3</th>\n",
       "      <td>(citrus fruit)</td>\n",
       "      <td>(whole milk)</td>\n",
       "      <td>0.060911</td>\n",
       "      <td>0.181445</td>\n",
       "      <td>0.011261</td>\n",
       "      <td>0.184881</td>\n",
       "      <td>1.018938</td>\n",
       "      <td>0.000209</td>\n",
       "      <td>1.004216</td>\n",
       "      <td>citrus fruit</td>\n",
       "      <td>whole milk</td>\n",
       "      <td>3</td>\n",
       "      <td>0.019791</td>\n",
       "    </tr>\n",
       "    <tr>\n",
       "      <th>4</th>\n",
       "      <td>(sausage)</td>\n",
       "      <td>(other vegetables)</td>\n",
       "      <td>0.074225</td>\n",
       "      <td>0.136531</td>\n",
       "      <td>0.010840</td>\n",
       "      <td>0.146048</td>\n",
       "      <td>1.069702</td>\n",
       "      <td>0.000706</td>\n",
       "      <td>1.011144</td>\n",
       "      <td>sausage</td>\n",
       "      <td>other vegetables</td>\n",
       "      <td>4</td>\n",
       "      <td>0.070384</td>\n",
       "    </tr>\n",
       "  </tbody>\n",
       "</table>\n",
       "</div>"
      ],
      "text/plain": [
       "      antecedents         consequents  antecedent support  consequent support  \\\n",
       "0  (bottled beer)        (whole milk)            0.054860            0.181445   \n",
       "1    (whole milk)      (bottled beer)            0.181445            0.054860   \n",
       "2    (whole milk)      (citrus fruit)            0.181445            0.060911   \n",
       "3  (citrus fruit)        (whole milk)            0.060911            0.181445   \n",
       "4       (sausage)  (other vegetables)            0.074225            0.136531   \n",
       "\n",
       "    support  confidence      lift  leverage  conviction    antecedent  \\\n",
       "0  0.010472    0.190887  1.052039  0.000518    1.011670  bottled beer   \n",
       "1  0.010472    0.057715  1.052039  0.000518    1.003030    whole milk   \n",
       "2  0.011261    0.062065  1.018938  0.000209    1.001230    whole milk   \n",
       "3  0.011261    0.184881  1.018938  0.000209    1.004216  citrus fruit   \n",
       "4  0.010840    0.146048  1.069702  0.000706    1.011144       sausage   \n",
       "\n",
       "         consequent  rule     zhang  \n",
       "0        whole milk     0  0.052336  \n",
       "1      bottled beer     1  0.060430  \n",
       "2      citrus fruit     2  0.022706  \n",
       "3        whole milk     3  0.019791  \n",
       "4  other vegetables     4  0.070384  "
      ]
     },
     "execution_count": 91,
     "metadata": {},
     "output_type": "execute_result"
    }
   ],
   "source": [
    "rules.head()"
   ]
  },
  {
   "cell_type": "markdown",
   "id": "c5a26f8c",
   "metadata": {
    "papermill": {
     "duration": 0.040891,
     "end_time": "2023-01-08T04:07:52.332109",
     "exception": false,
     "start_time": "2023-01-08T04:07:52.291218",
     "status": "completed"
    },
    "tags": []
   },
   "source": [
    "#### From this we can see whole milk is bought with beer and citrus fruits and sausages are bought with other vegetables"
   ]
  },
  {
   "cell_type": "code",
   "execution_count": null,
   "id": "52757302",
   "metadata": {
    "papermill": {
     "duration": 0.040992,
     "end_time": "2023-01-08T04:07:52.413773",
     "exception": false,
     "start_time": "2023-01-08T04:07:52.372781",
     "status": "completed"
    },
    "tags": []
   },
   "outputs": [],
   "source": []
  }
 ],
 "metadata": {
  "kernelspec": {
   "display_name": "Python 3",
   "language": "python",
   "name": "python3"
  },
  "language_info": {
   "codemirror_mode": {
    "name": "ipython",
    "version": 3
   },
   "file_extension": ".py",
   "mimetype": "text/x-python",
   "name": "python",
   "nbconvert_exporter": "python",
   "pygments_lexer": "ipython3",
   "version": "3.7.12"
  },
  "papermill": {
   "default_parameters": {},
   "duration": 160.779312,
   "end_time": "2023-01-08T04:07:53.279615",
   "environment_variables": {},
   "exception": null,
   "input_path": "__notebook__.ipynb",
   "output_path": "__notebook__.ipynb",
   "parameters": {},
   "start_time": "2023-01-08T04:05:12.500303",
   "version": "2.3.4"
  }
 },
 "nbformat": 4,
 "nbformat_minor": 5
}
